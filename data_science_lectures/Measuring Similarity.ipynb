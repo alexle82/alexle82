{
 "cells": [
  {
   "cell_type": "code",
   "execution_count": 1,
   "metadata": {
    "slideshow": {
     "slide_type": "skip"
    }
   },
   "outputs": [],
   "source": [
    "import pandas as pd\n",
    "import numpy as np\n",
    "import matplotlib.pylab as plt\n",
    "import seaborn as sns\n",
    "%matplotlib inline"
   ]
  },
  {
   "cell_type": "markdown",
   "metadata": {
    "slideshow": {
     "slide_type": "slide"
    }
   },
   "source": [
    "## Measuring Similarity\n",
    "\n",
    "- In order to find clusters in a data set we need to have some way of telling how similar two observations are to each other.  \n",
    "- A cluster is a grouping of samples that are more similar to each other than they are to the samples in another cluster.   \n",
    "- The first step in understanding clustering is understanding how to measure similarity.\n"
   ]
  },
  {
   "cell_type": "markdown",
   "metadata": {
    "slideshow": {
     "slide_type": "slide"
    }
   },
   "source": [
    "## Similarity and Distance\n",
    "\n",
    "The key to understanding similarity metrics is to think about measuring distance in the real world. When\n",
    "we graph a two dimensional data set, we get a layout of points on the plane.   From this it is easy to \n",
    "see when two points are similar - they are close to each other on the graph.  In the example below, \n",
    "we'd say that the middle (red) point (3.5,4) is closer or more similar to the first point (3,2) than (5,6)."
   ]
  },
  {
   "cell_type": "code",
   "execution_count": 2,
   "metadata": {
    "slideshow": {
     "slide_type": "slide"
    }
   },
   "outputs": [
    {
     "data": {
      "image/png": "[encoded data removed]",
      "text/plain": [
       "<Figure size 432x288 with 1 Axes>"
      ]
     },
     "metadata": {},
     "output_type": "display_data"
    }
   ],
   "source": [
    "plt.scatter(x=[3, 5], y=[2, 6]); _p = plt.scatter(x=[3.5], y=[4], color='red')"
   ]
  },
  {
   "cell_type": "markdown",
   "metadata": {
    "slideshow": {
     "slide_type": "slide"
    }
   },
   "source": [
    "In two dimensions, we can measure the distance between the points $(x_1,y_1)$ and $(x_2,y_2)$ using Pythagoras Theorem:\n",
    "\n",
    "\\begin{equation}\n",
    "d(a,b) = \\sqrt{(x_1-x_2)^2 + (y_1-y_2)^2)}\n",
    "\\end{equation}\n",
    "\n",
    "This can be generalised into more dimensions like this:\n",
    "\n",
    "\\begin{equation*}\n",
    "d(a,b) = \\sqrt{\\sum_{i=1}^n (a_i - b_i)^2}\n",
    "\\end{equation*}\n",
    "\n",
    "where $a_i$ is the $i$th feature for point $A$.  It's easy to picture this in two or three dimensions, when you \n",
    "have more dimensions, the maths is the same but you can't picture it."
   ]
  },
  {
   "cell_type": "markdown",
   "metadata": {
    "slideshow": {
     "slide_type": "slide"
    }
   },
   "source": [
    "Let's look at some data for describing cars and their MPG ragings:"
   ]
  },
  {
   "cell_type": "code",
   "execution_count": 3,
   "metadata": {
    "slideshow": {
     "slide_type": "fragment"
    }
   },
   "outputs": [
    {
     "data": {
      "text/html": [
       "<div>\n",
       "<style scoped>\n",
       "    .dataframe tbody tr th:only-of-type {\n",
       "        vertical-align: middle;\n",
       "    }\n",
       "\n",
       "    .dataframe tbody tr th {\n",
       "        vertical-align: top;\n",
       "    }\n",
       "\n",
       "    .dataframe thead th {\n",
       "        text-align: right;\n",
       "    }\n",
       "</style>\n",
       "<table border=\"1\" class=\"dataframe\">\n",
       "  <thead>\n",
       "    <tr style=\"text-align: right;\">\n",
       "      <th></th>\n",
       "      <th>mpg</th>\n",
       "      <th>cylinders</th>\n",
       "      <th>displacement</th>\n",
       "      <th>horsepower</th>\n",
       "      <th>weight</th>\n",
       "      <th>acceleration</th>\n",
       "      <th>year</th>\n",
       "      <th>origin</th>\n",
       "      <th>name</th>\n",
       "    </tr>\n",
       "  </thead>\n",
       "  <tbody>\n",
       "    <tr>\n",
       "      <th>0</th>\n",
       "      <td>18.0</td>\n",
       "      <td>8</td>\n",
       "      <td>307.0</td>\n",
       "      <td>130.0</td>\n",
       "      <td>3504.0</td>\n",
       "      <td>12.0</td>\n",
       "      <td>70</td>\n",
       "      <td>1</td>\n",
       "      <td>chevrolet chevelle malibu</td>\n",
       "    </tr>\n",
       "    <tr>\n",
       "      <th>1</th>\n",
       "      <td>15.0</td>\n",
       "      <td>8</td>\n",
       "      <td>350.0</td>\n",
       "      <td>165.0</td>\n",
       "      <td>3693.0</td>\n",
       "      <td>11.5</td>\n",
       "      <td>70</td>\n",
       "      <td>1</td>\n",
       "      <td>buick skylark 320</td>\n",
       "    </tr>\n",
       "    <tr>\n",
       "      <th>2</th>\n",
       "      <td>18.0</td>\n",
       "      <td>8</td>\n",
       "      <td>318.0</td>\n",
       "      <td>150.0</td>\n",
       "      <td>3436.0</td>\n",
       "      <td>11.0</td>\n",
       "      <td>70</td>\n",
       "      <td>1</td>\n",
       "      <td>plymouth satellite</td>\n",
       "    </tr>\n",
       "    <tr>\n",
       "      <th>3</th>\n",
       "      <td>16.0</td>\n",
       "      <td>8</td>\n",
       "      <td>304.0</td>\n",
       "      <td>150.0</td>\n",
       "      <td>3433.0</td>\n",
       "      <td>12.0</td>\n",
       "      <td>70</td>\n",
       "      <td>1</td>\n",
       "      <td>amc rebel sst</td>\n",
       "    </tr>\n",
       "    <tr>\n",
       "      <th>4</th>\n",
       "      <td>17.0</td>\n",
       "      <td>8</td>\n",
       "      <td>302.0</td>\n",
       "      <td>140.0</td>\n",
       "      <td>3449.0</td>\n",
       "      <td>10.5</td>\n",
       "      <td>70</td>\n",
       "      <td>1</td>\n",
       "      <td>ford torino</td>\n",
       "    </tr>\n",
       "  </tbody>\n",
       "</table>\n",
       "</div>"
      ],
      "text/plain": [
       "    mpg  cylinders  displacement  horsepower  weight  acceleration  year  \\\n",
       "0  18.0          8         307.0       130.0  3504.0          12.0    70   \n",
       "1  15.0          8         350.0       165.0  3693.0          11.5    70   \n",
       "2  18.0          8         318.0       150.0  3436.0          11.0    70   \n",
       "3  16.0          8         304.0       150.0  3433.0          12.0    70   \n",
       "4  17.0          8         302.0       140.0  3449.0          10.5    70   \n",
       "\n",
       "   origin                       name  \n",
       "0       1  chevrolet chevelle malibu  \n",
       "1       1          buick skylark 320  \n",
       "2       1         plymouth satellite  \n",
       "3       1              amc rebel sst  \n",
       "4       1                ford torino  "
      ]
     },
     "execution_count": 3,
     "metadata": {},
     "output_type": "execute_result"
    }
   ],
   "source": [
    "names = ['mpg', 'cylinders', 'displacement', 'horsepower', 'weight', 'acceleration', 'year', 'origin', 'name']\n",
    "autompg = pd.read_csv('files/auto-mpg.data', delim_whitespace=True, names=names)\n",
    "autompg.head()"
   ]
  },
  {
   "cell_type": "markdown",
   "metadata": {
    "slideshow": {
     "slide_type": "slide"
    }
   },
   "source": [
    "We could ask which is more similar to the \"chevrolet chevelle malibu\" - the \"buick skylark 320\" or the \"plymouth satellite\"? "
   ]
  },
  {
   "cell_type": "code",
   "execution_count": 42,
   "metadata": {
    "slideshow": {
     "slide_type": "slide"
    }
   },
   "outputs": [
    {
     "data": {
      "text/plain": [
       "mpg               3.0\n",
       "cylinders         0.0\n",
       "displacement    -43.0\n",
       "horsepower      -35.0\n",
       "weight         -189.0\n",
       "acceleration      0.5\n",
       "year              0.0\n",
       "origin            0.0\n",
       "dtype: float64"
      ]
     },
     "execution_count": 42,
     "metadata": {},
     "output_type": "execute_result"
    }
   ],
   "source": [
    "# drop the name so that we just have the numerical columns\n",
    "autompgN = autompg.drop('name', axis=1)\n",
    "\n",
    "A = autompgN.loc[0]\n",
    "B = autompgN.loc[1]\n",
    "C = autompgN.loc[2]\n",
    "\n",
    "# simple subtraction of two Series shows the difference\n",
    "A-B"
   ]
  },
  {
   "cell_type": "code",
   "execution_count": 43,
   "metadata": {
    "slideshow": {
     "slide_type": "slide"
    }
   },
   "outputs": [
    {
     "data": {
      "text/plain": [
       "196.98794379352256"
      ]
     },
     "execution_count": 43,
     "metadata": {},
     "output_type": "execute_result"
    }
   ],
   "source": [
    "# compute the sum of squares and take the square root\n",
    "np.sqrt(np.square(A-B).sum()) "
   ]
  },
  {
   "cell_type": "code",
   "execution_count": 6,
   "metadata": {
    "slideshow": {
     "slide_type": "fragment"
    }
   },
   "outputs": [
    {
     "data": {
      "text/plain": [
       "71.73562573784382"
      ]
     },
     "execution_count": 6,
     "metadata": {},
     "output_type": "execute_result"
    }
   ],
   "source": [
    "np.sqrt(np.square(A-C).sum())"
   ]
  },
  {
   "cell_type": "markdown",
   "metadata": {
    "slideshow": {
     "slide_type": "slide"
    }
   },
   "source": [
    "## Normalising Variables\n",
    "\n",
    "- in this case, the units of each variable are quite different\n",
    "   - cylinders varies from 3 to 8\n",
    "   - displacement from 68 to 455\n",
    "   - weight from 1613 to 5140\n",
    "- this means that a difference in weight would dominate the other variables\n",
    "- solution is to normalise the data "
   ]
  },
  {
   "cell_type": "code",
   "execution_count": 7,
   "metadata": {
    "slideshow": {
     "slide_type": "slide"
    }
   },
   "outputs": [
    {
     "data": {
      "text/plain": [
       "<matplotlib.axes._subplots.AxesSubplot at 0x1a19e2cd30>"
      ]
     },
     "execution_count": 7,
     "metadata": {},
     "output_type": "execute_result"
    },
    {
     "data": {
      "image/png": "[encoded data removed]",
      "text/plain": [
       "<Figure size 432x288 with 1 Axes>"
      ]
     },
     "metadata": {},
     "output_type": "display_data"
    }
   ],
   "source": [
    "autompg.plot('cylinders', 'displacement', 'scatter')"
   ]
  },
  {
   "cell_type": "code",
   "execution_count": 8,
   "metadata": {
    "slideshow": {
     "slide_type": "slide"
    }
   },
   "outputs": [
    {
     "data": {
      "text/plain": [
       "(0, 450)"
      ]
     },
     "execution_count": 8,
     "metadata": {},
     "output_type": "execute_result"
    },
    {
     "data": {
      "image/png": "[encoded data removed]",
      "text/plain": [
       "<Figure size 432x288 with 1 Axes>"
      ]
     },
     "metadata": {},
     "output_type": "display_data"
    }
   ],
   "source": [
    "# plot again on equally spaced axes\n",
    "autompg.plot('cylinders', 'displacement', 'scatter')\n",
    "plt.ylim(0,450)\n",
    "plt.xlim(0,450)"
   ]
  },
  {
   "cell_type": "markdown",
   "metadata": {
    "slideshow": {
     "slide_type": "slide"
    }
   },
   "source": [
    "## Normalising Variables\n",
    "\n",
    "- normalise to make the mean and standard deviation the same for every variable\n",
    "- for each column:\n",
    "   - subtract the mean\n",
    "   - divide by the standard deviation\n",
    "- result is data with mean of 0, std of 1.0 "
   ]
  },
  {
   "cell_type": "code",
   "execution_count": 9,
   "metadata": {
    "slideshow": {
     "slide_type": "slide"
    }
   },
   "outputs": [
    {
     "data": {
      "text/plain": [
       "(-1, 1)"
      ]
     },
     "execution_count": 9,
     "metadata": {},
     "output_type": "execute_result"
    },
    {
     "data": {
      "image/png": "[encoded data removed]",
      "text/plain": [
       "<Figure size 432x288 with 1 Axes>"
      ]
     },
     "metadata": {},
     "output_type": "display_data"
    }
   ],
   "source": [
    "# subtract the mean, divide by the standard deviation\n",
    "autompg_norm = (autompgN-autompgN.mean())/autompgN.std()\n",
    "autompg_norm.plot('cylinders', 'displacement', 'scatter') \n",
    "plt.ylim(-1,1)\n",
    "plt.xlim(-1,1) "
   ]
  },
  {
   "cell_type": "code",
   "execution_count": 10,
   "metadata": {
    "slideshow": {
     "slide_type": "slide"
    }
   },
   "outputs": [
    {
     "name": "stdout",
     "output_type": "stream",
     "text": [
      "Without normalisation:\n",
      "A -> B 196.98794379352256\n",
      "A -> C 71.73562573784382\n",
      "With normalisation:\n",
      "A -> B 1.107146840365627\n",
      "A -> C 0.6471676014562091\n"
     ]
    }
   ],
   "source": [
    "print(\"Without normalisation:\")\n",
    "print(\"A -> B\", np.sqrt(np.square(autompgN.iloc[0]-autompgN.iloc[1]).sum()))\n",
    "print(\"A -> C\", np.sqrt(np.square(autompgN.iloc[0]-autompgN.iloc[2]).sum()))\n",
    "print(\"With normalisation:\")\n",
    "print(\"A -> B\", np.sqrt(np.square(autompg_norm.iloc[0]-autompg_norm.iloc[1]).sum()))\n",
    "print(\"A -> C\", np.sqrt(np.square(autompg_norm.iloc[0]-autompg_norm.iloc[2]).sum()))"
   ]
  },
  {
   "cell_type": "markdown",
   "metadata": {
    "slideshow": {
     "slide_type": "slide"
    }
   },
   "source": [
    "\n",
    "### Other Distance Metrics\n",
    "\n",
    "This is the simplest distance metric but there are other possible ways to measure distance.   The text has a more general formula for the *Minkowski distance*:\n",
    "\n",
    "\\begin{equation*}\n",
    "d(a,b) = (\\sum_{i=1}^d |a_i - b_i|^p)^{1/p}\n",
    "\\end{equation*}\n",
    "\n",
    "in the case when $p=2$ this is the Euclidean distance we've used above. \n",
    "\n",
    "When $p=1$ this is the city block \n",
    "or Manhattan distance which is just the sum of the differences between each dimension. "
   ]
  },
  {
   "cell_type": "code",
   "execution_count": 44,
   "metadata": {
    "slideshow": {
     "slide_type": "slide"
    }
   },
   "outputs": [
    {
     "data": {
      "text/plain": [
       "Text(4.5,2.5,'manhattan=6')"
      ]
     },
     "execution_count": 44,
     "metadata": {},
     "output_type": "execute_result"
    },
    {
     "data": {
      "image/png": "[encoded data removed]",
      "text/plain": [
       "<Figure size 720x360 with 1 Axes>"
      ]
     },
     "metadata": {},
     "output_type": "display_data"
    }
   ],
   "source": [
    "x=[3, 5]; y=[2, 6]\n",
    "e= np.sqrt(np.square(5-3) + np.square(6-2))\n",
    "m = (5-3) + (6-2)\n",
    "plt.figure(figsize=(10, 5));plt.scatter(x, y); plt.plot(x, y, color='red');plt.plot([3, 5, 5], [2, 2, 6], color='green')\n",
    "plt.text(3.7, 4, 'euclidean={:.2}'.format(e));plt.text(4.5, 2.5, 'manhattan={}'.format(m))"
   ]
  },
  {
   "cell_type": "markdown",
   "metadata": {
    "slideshow": {
     "slide_type": "notes"
    }
   },
   "source": [
    "Manhattan distance is\n",
    "much faster to compute than Euclidean since there are just additions, no multiplications or square roots needed.\n",
    "It can be just as effective when we're clustering so for large data sets it can save some time processing \n",
    "the data."
   ]
  }
 ],
 "metadata": {
  "celltoolbar": "Slideshow",
  "kernelspec": {
   "display_name": "Python 3",
   "language": "python",
   "name": "python3"
  },
  "language_info": {
   "codemirror_mode": {
    "name": "ipython",
    "version": 3
   },
   "file_extension": ".py",
   "mimetype": "text/x-python",
   "name": "python",
   "nbconvert_exporter": "python",
   "pygments_lexer": "ipython3",
   "version": "3.8.3"
  }
 },
 "nbformat": 4,
 "nbformat_minor": 2
}
