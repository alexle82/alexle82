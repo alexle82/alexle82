{
 "cells": [
  {
   "cell_type": "markdown",
   "metadata": {
    "slideshow": {
     "slide_type": "slide"
    }
   },
   "source": [
    "# Seaborn\n",
    "\n",
    "* [Seaborn](https://seaborn.pydata.org/) is a plotting library for Python\n",
    "* It provides some nice options for visualisation beyond the more basic `matplotlib`\n",
    "* (Although it is built on top of `matplotlib`)\n",
    "* The version of Seaborn in Anaconda is not (usually) the most recent\n",
    "* Can be a challenge to find documentation to match your version"
   ]
  },
  {
   "cell_type": "code",
   "execution_count": 1,
   "metadata": {
    "slideshow": {
     "slide_type": "slide"
    }
   },
   "outputs": [],
   "source": [
    "import seaborn as sns\n",
    "%matplotlib inline"
   ]
  },
  {
   "cell_type": "markdown",
   "metadata": {
    "slideshow": {
     "slide_type": "fragment"
    }
   },
   "source": [
    "Find out what version you have:"
   ]
  },
  {
   "cell_type": "code",
   "execution_count": 2,
   "metadata": {
    "slideshow": {
     "slide_type": "fragment"
    }
   },
   "outputs": [
    {
     "data": {
      "text/plain": [
       "'0.10.1'"
      ]
     },
     "execution_count": 2,
     "metadata": {},
     "output_type": "execute_result"
    }
   ],
   "source": [
    "sns.__version__"
   ]
  },
  {
   "cell_type": "markdown",
   "metadata": {
    "slideshow": {
     "slide_type": "slide"
    }
   },
   "source": [
    "## Documentation for Old Versions\n",
    "\n",
    "* Most recent version right now is 0.11.0 but you probably have 0.10.1 or maybe 0.9\n",
    "* There are significant changes between versions that mean examples don't work \n",
    "* There's an archive of old versions of the documentation [here](https://seaborn.pydata.org/archive.html)\n",
    "* Let's look at some examples..."
   ]
  },
  {
   "cell_type": "markdown",
   "metadata": {
    "slideshow": {
     "slide_type": "slide"
    }
   },
   "source": [
    "## Other options\n",
    "\n",
    "* Seaborn is not the only alternate plotting library\n",
    "* Worth exploring other options\n",
    "* [Altair](https://altair-viz.github.io/) \"offers a powerful and concise visualization grammar that enables you to build a wide range of statistical visualizations quickly\"\n",
    "* [Plotly](https://plotly.com/) provides a web service to allow you to create online interactive graphs\n",
    "\n",
    "[Libraries for Data Visualization](https://www.shanelynn.ie/plotting-with-python-and-pandas-libraries-for-data-visualisation/)"
   ]
  }
 ],
 "metadata": {
  "celltoolbar": "Slideshow",
  "kernelspec": {
   "display_name": "Python 3 (ipykernel)",
   "language": "python",
   "name": "python3"
  },
  "language_info": {
   "codemirror_mode": {
    "name": "ipython",
    "version": 3
   },
   "file_extension": ".py",
   "mimetype": "text/x-python",
   "name": "python",
   "nbconvert_exporter": "python",
   "pygments_lexer": "ipython3",
   "version": "3.9.7"
  }
 },
 "nbformat": 4,
 "nbformat_minor": 4
}
