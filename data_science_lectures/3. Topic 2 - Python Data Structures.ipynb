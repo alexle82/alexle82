{
 "cells": [
  {
   "cell_type": "markdown",
   "metadata": {
    "slideshow": {
     "slide_type": "slide"
    }
   },
   "source": [
    "# Python \n",
    "\n",
    "* About the Python language\n",
    "* Running Python code\n",
    "* Python data structures\n",
    "\n",
    "Some slides copied and adapted from [Software Carpentry](http://swcarpentry.github.io/python-novice-gapminder/02-variables/index.html)"
   ]
  },
  {
   "cell_type": "markdown",
   "metadata": {
    "slideshow": {
     "slide_type": "slide"
    }
   },
   "source": [
    "# Running Python \n",
    "\n",
    "* Python is an interpreted language, the `python` program runs python code\n",
    "* Run `python` with no arguments to get a Python prompt\n",
    "    * enter Python expressions and see the results (demo)\n",
    "* Save your program in a file `code.py` and run it with a command line:\n",
    "    * `python code.py`\n",
    "* Use the Jupyter Notebook environment to run your code\n",
    "    * enter code in blocks and click __Run__, see the result below\n",
    "    "
   ]
  },
  {
   "cell_type": "markdown",
   "metadata": {
    "slideshow": {
     "slide_type": "slide"
    }
   },
   "source": [
    "# Variables and Values\n",
    "\n",
    "* Variables are names for values.\n",
    "* In Python the `=` symbol assigns the value on the right to the name on the left.\n",
    "* The variable is created when a value is assigned to it.\n",
    "* Variable names\n",
    "    * can only contain letters, digits, and underscore _ (typically used to separate words in long variable names)\n",
    "    * cannot start with a digit\n",
    "* Here, Python assigns an age to a variable `age` and a name in quotes to a variable `first_name`."
   ]
  },
  {
   "cell_type": "code",
   "execution_count": 1,
   "metadata": {
    "slideshow": {
     "slide_type": "fragment"
    }
   },
   "outputs": [],
   "source": [
    "age = 23\n",
    "first_name = 'Steve'"
   ]
  },
  {
   "cell_type": "markdown",
   "metadata": {
    "slideshow": {
     "slide_type": "slide"
    }
   },
   "source": [
    "# Use print to display values.\n",
    "\n",
    "* Python has a built-in function called `print` that prints things as text.\n",
    "* Call the function (i.e., tell Python to run it) by using its name.\n",
    "* Provide values to the function (i.e., the things to print) in parentheses.\n",
    "* To add a string to the printout, wrap the string in single or double quotes.\n",
    "* The values passed to the function are called ‘arguments’"
   ]
  },
  {
   "cell_type": "code",
   "execution_count": 2,
   "metadata": {
    "slideshow": {
     "slide_type": "fragment"
    }
   },
   "outputs": [
    {
     "data": {
      "text/plain": [
       "'Steve'"
      ]
     },
     "execution_count": 2,
     "metadata": {},
     "output_type": "execute_result"
    }
   ],
   "source": [
    "first_name\n"
   ]
  },
  {
   "cell_type": "code",
   "execution_count": 3,
   "metadata": {},
   "outputs": [
    {
     "name": "stdout",
     "output_type": "stream",
     "text": [
      "Steve\n"
     ]
    }
   ],
   "source": [
    "print(first_name)"
   ]
  },
  {
   "cell_type": "markdown",
   "metadata": {
    "slideshow": {
     "slide_type": "slide"
    }
   },
   "source": [
    "# Variables must be created before they are used.\n",
    "\n",
    "* If a variable doesn’t exist yet, or if the name has been mis-spelled, Python reports an error.\n",
    "* Unlike some languages, which “guess” a default value."
   ]
  },
  {
   "cell_type": "code",
   "execution_count": 4,
   "metadata": {},
   "outputs": [],
   "source": [
    "last_name= 'Smith'"
   ]
  },
  {
   "cell_type": "code",
   "execution_count": 5,
   "metadata": {
    "slideshow": {
     "slide_type": "fragment"
    }
   },
   "outputs": [
    {
     "ename": "NameError",
     "evalue": "name 'other_name' is not defined",
     "output_type": "error",
     "traceback": [
      "\u001b[0;31m---------------------------------------------------------------------------\u001b[0m",
      "\u001b[0;31mNameError\u001b[0m                                 Traceback (most recent call last)",
      "\u001b[0;32m<ipython-input-5-a005c365bcba>\u001b[0m in \u001b[0;36m<module>\u001b[0;34m\u001b[0m\n\u001b[0;32m----> 1\u001b[0;31m \u001b[0mprint\u001b[0m\u001b[0;34m(\u001b[0m\u001b[0mother_name\u001b[0m\u001b[0;34m)\u001b[0m\u001b[0;34m\u001b[0m\u001b[0;34m\u001b[0m\u001b[0m\n\u001b[0m",
      "\u001b[0;31mNameError\u001b[0m: name 'other_name' is not defined"
     ]
    }
   ],
   "source": [
    "print(other_name)"
   ]
  },
  {
   "cell_type": "markdown",
   "metadata": {
    "slideshow": {
     "slide_type": "slide"
    }
   },
   "source": [
    "# Order of execution\n",
    "\n",
    "* In a notebook, the order of execution is the order you run the cells\n",
    "* You could define a variable early in the notebook but if the cell is not run it will not be defined\n",
    "* To prevent confusion, it can be helpful to use the `Kernel` -> `Restart & Run All` option which clears the interpreter and runs everything from a clean slate going top to bottom."
   ]
  },
  {
   "cell_type": "markdown",
   "metadata": {
    "slideshow": {
     "slide_type": "slide"
    }
   },
   "source": [
    "# Variables can be used in calculations.\n",
    "\n",
    "* We can use variables in calculations just as if they were values.\n",
    "    * Remember, we assigned 23 to `age` a few lines ago."
   ]
  },
  {
   "cell_type": "code",
   "execution_count": 6,
   "metadata": {
    "slideshow": {
     "slide_type": "fragment"
    }
   },
   "outputs": [
    {
     "name": "stdout",
     "output_type": "stream",
     "text": [
      "Age in two years is: 25\n"
     ]
    }
   ],
   "source": [
    "age = age + 2\n",
    "print(\"Age in two years is:\", age)"
   ]
  },
  {
   "cell_type": "markdown",
   "metadata": {
    "slideshow": {
     "slide_type": "slide"
    }
   },
   "source": [
    "# Use an index to get a single character from a string\n",
    "\n",
    "* Square brackets after variable name access parts of the string\n",
    "* Each character position is given a number or index\n",
    "* index starts from 0 \n",
    "* So, the fist character is 0, the second 1 etc"
   ]
  },
  {
   "cell_type": "code",
   "execution_count": 10,
   "metadata": {},
   "outputs": [
    {
     "name": "stdout",
     "output_type": "stream",
     "text": [
      "a\n"
     ]
    },
    {
     "data": {
      "text/plain": [
       "'Wuhan here'"
      ]
     },
     "execution_count": 10,
     "metadata": {},
     "output_type": "execute_result"
    }
   ],
   "source": [
    "city = \"Wuhan\"\n",
    "print(city[3])\n",
    "city + ' here'"
   ]
  },
  {
   "cell_type": "markdown",
   "metadata": {
    "slideshow": {
     "slide_type": "slide"
    }
   },
   "source": [
    "# Use a slice to get a substring\n",
    "\n",
    "* If we want to get part of a string, use a slice\n",
    "* Same square bracket notation\n",
    "* This time two indices: `[start:end]`\n",
    "* Value is every character from `start` upto but not including `end`\n",
    "* If you miss `start` or `end` then the start or end of the string is assumed"
   ]
  },
  {
   "cell_type": "code",
   "execution_count": 11,
   "metadata": {
    "slideshow": {
     "slide_type": "slide"
    }
   },
   "outputs": [
    {
     "name": "stdout",
     "output_type": "stream",
     "text": [
      "Wuh\n",
      "ha\n",
      "Wuh\n",
      "han\n"
     ]
    }
   ],
   "source": [
    "print(city[0:3])\n",
    "print(city[2:4])\n",
    "print(city[:3])\n",
    "print(city[2:])"
   ]
  },
  {
   "cell_type": "markdown",
   "metadata": {
    "slideshow": {
     "slide_type": "slide"
    }
   },
   "source": [
    "# Python Data Structures\n",
    "\n",
    "* Understand the different data structures available in Python\n",
    "* Strings, Lists, Tuples, Dictionaries\n",
    "* Methods defined on each type \n",
    "* What to use for different tasks\n",
    "* Packages and data structures for numerical data analysis:\n",
    "    * Numpy vectors, arrays, matrices"
   ]
  },
  {
   "cell_type": "markdown",
   "metadata": {
    "slideshow": {
     "slide_type": "slide"
    }
   },
   "source": [
    "## Strings\n",
    "\n",
    "* Sequence of characters representing text\n",
    "* In Python, strings are unicode - so can store any characters\n",
    "* Can use single quote ', double quote \" or triple quotes \"\"\" \n",
    "* Strings are objects, call methods on them\n",
    "* Check out [the documentation](https://docs.python.org/3/library/string.html) for more"
   ]
  },
  {
   "cell_type": "code",
   "execution_count": 12,
   "metadata": {
    "slideshow": {
     "slide_type": "subslide"
    }
   },
   "outputs": [
    {
     "name": "stdout",
     "output_type": "stream",
     "text": [
      "triple quoted string\n",
      "can contain \n",
      "newlines\n"
     ]
    }
   ],
   "source": [
    "s1 = 'single quoted string might have \"quotes in it\"'\n",
    "s2 = \"double quoted string could contain it's or that's\"\n",
    "s3 = \"\"\"triple quoted string\n",
    "can contain \n",
    "newlines\"\"\"\n",
    "s4 = \"String containing 中文\"\n",
    "print(s3)"
   ]
  },
  {
   "cell_type": "code",
   "execution_count": 13,
   "metadata": {
    "slideshow": {
     "slide_type": "fragment"
    }
   },
   "outputs": [
    {
     "name": "stdout",
     "output_type": "stream",
     "text": [
      "String containing 中文\n"
     ]
    }
   ],
   "source": [
    "print(s4)"
   ]
  },
  {
   "cell_type": "markdown",
   "metadata": {
    "slideshow": {
     "slide_type": "slide"
    }
   },
   "source": [
    "# Operations on Strings"
   ]
  },
  {
   "cell_type": "code",
   "execution_count": 14,
   "metadata": {
    "slideshow": {
     "slide_type": "fragment"
    }
   },
   "outputs": [
    {
     "data": {
      "text/plain": [
       "'STRING CONTAINING 中文'"
      ]
     },
     "execution_count": 14,
     "metadata": {},
     "output_type": "execute_result"
    }
   ],
   "source": [
    "# convert s4 to uppercase and store as s5\n",
    "s5 = s4.upper()\n",
    "s5"
   ]
  },
  {
   "cell_type": "code",
   "execution_count": 15,
   "metadata": {
    "slideshow": {
     "slide_type": "fragment"
    }
   },
   "outputs": [
    {
     "data": {
      "text/plain": [
       "'g containing 中文'"
      ]
     },
     "execution_count": 15,
     "metadata": {},
     "output_type": "execute_result"
    }
   ],
   "source": [
    "# find the first occurence of 'g' in s4\n",
    "firstg = s4.find('g')\n",
    "# get all characters after that\n",
    "s4[firstg:]"
   ]
  },
  {
   "cell_type": "markdown",
   "metadata": {
    "slideshow": {
     "slide_type": "slide"
    }
   },
   "source": [
    "# Lists and Tuples\n",
    "\n",
    "* Lists are sequences of values\n",
    "* Written inside square brackets, separated by commas\n",
    "    * ['this', 'is', 'a', 'list', 'of', 'strings'], [3, 4, 6]\n",
    "    * ['strings', 'and', 3, 9, 2]\n",
    "    * ['lists', 'containing', ['another', 'list']]\n",
    "* Lists can be modified, elements added, removed, replaced\n",
    "* Tuples are just like lists but can't be modified\n",
    "    * ('this', 'is', 'a', 'tuple')\n",
    "    * sometimes it's more efficient to use a tuple\n",
    "* Check out the [documentation](https://docs.python.org/3/library/stdtypes.html#sequence-types-list-tuple-range)"
   ]
  },
  {
   "cell_type": "code",
   "execution_count": 16,
   "metadata": {
    "slideshow": {
     "slide_type": "slide"
    }
   },
   "outputs": [
    {
     "data": {
      "text/plain": [
       "['embedded', 'list', ['this', 'is', 'a', 'list', 'of', 'strings']]"
      ]
     },
     "execution_count": 16,
     "metadata": {},
     "output_type": "execute_result"
    }
   ],
   "source": [
    "list1 = ['this', 'is', 'a', 'list', 'of', 'strings']\n",
    "list2 = ['embedded', 'list', list1]\n",
    "list(tuple(list2))"
   ]
  },
  {
   "cell_type": "code",
   "execution_count": 18,
   "metadata": {
    "slideshow": {
     "slide_type": "fragment"
    }
   },
   "outputs": [
    {
     "data": {
      "text/plain": [
       "True"
      ]
     },
     "execution_count": 18,
     "metadata": {},
     "output_type": "execute_result"
    }
   ],
   "source": [
    "# the 'in' operator checks whether something is in a list\n",
    "'a' in list1"
   ]
  },
  {
   "cell_type": "code",
   "execution_count": 19,
   "metadata": {
    "slideshow": {
     "slide_type": "fragment"
    }
   },
   "outputs": [
    {
     "name": "stdout",
     "output_type": "stream",
     "text": [
      "found it\n"
     ]
    }
   ],
   "source": [
    "if 'a' in list1:\n",
    "    print(\"found it\")\n",
    "else:\n",
    "    print(\"not found\")"
   ]
  },
  {
   "cell_type": "markdown",
   "metadata": {
    "slideshow": {
     "slide_type": "slide"
    }
   },
   "source": [
    "# Lists and Loops"
   ]
  },
  {
   "cell_type": "code",
   "execution_count": 20,
   "metadata": {
    "slideshow": {
     "slide_type": "fragment"
    }
   },
   "outputs": [
    {
     "name": "stdout",
     "output_type": "stream",
     "text": [
      "['To', 'be', 'or', 'not', 'to', 'be', 'that', 'is', 'the', 'question']\n",
      "To 2\n",
      "be 2\n",
      "or 2\n",
      "not 3\n",
      "to 2\n",
      "be 2\n",
      "that 4\n",
      "is 2\n",
      "the 3\n",
      "question 8\n",
      "[2, 2, 2, 3, 2, 2, 4, 2, 3, 8]\n"
     ]
    }
   ],
   "source": [
    "text = \"To be or not to be that is the question\"\n",
    "# split the string at every space character, generate a list\n",
    "words = text.split()\n",
    "print(words)\n",
    "\n",
    "# create a new empty list\n",
    "wordlengths = []\n",
    "for word in words:\n",
    "    # append the length of this word to our list\n",
    "    wordlengths.append(len(word))\n",
    "    print(word, len(word))\n",
    "print(wordlengths)\n"
   ]
  },
  {
   "cell_type": "markdown",
   "metadata": {
    "slideshow": {
     "slide_type": "slide"
    }
   },
   "source": [
    "# Tuples vs Lists"
   ]
  },
  {
   "cell_type": "code",
   "execution_count": null,
   "metadata": {
    "slideshow": {
     "slide_type": "fragment"
    }
   },
   "outputs": [],
   "source": [
    "# could use a tuple to represent a data record\n",
    "record = ('steve', 'cassidy', 39) \n",
    "# can use some of the same operations as lists\n",
    "print(\"Length: \", len(record))\n",
    "print(\"Second element: \", record[1])"
   ]
  },
  {
   "cell_type": "code",
   "execution_count": null,
   "metadata": {
    "slideshow": {
     "slide_type": "fragment"
    }
   },
   "outputs": [],
   "source": [
    "# but this can't be modified\n",
    "record.append(21)"
   ]
  },
  {
   "cell_type": "markdown",
   "metadata": {
    "slideshow": {
     "slide_type": "slide"
    }
   },
   "source": [
    "# Tuples, Lists and Strings\n",
    "\n",
    "These are all _sequence_ types and share some common operations."
   ]
  },
  {
   "cell_type": "code",
   "execution_count": null,
   "metadata": {
    "slideshow": {
     "slide_type": "fragment"
    }
   },
   "outputs": [],
   "source": [
    "s = ['a', 'list', 'of', 'stuff']\n",
    "t = [1, 2, 3]\n",
    "\n",
    "'a' in s         # boolean test\n",
    "'x' not in s     # boolean test\n",
    "s + t            # concatenate s and t\n",
    "t * 3            # t repeated 3 times\n",
    "s[1]             # second element\n",
    "s[:2]            # all elements up to the second\n",
    "s[2:4]           # all elements from 3rd to 4th\n",
    "min(s)           # smallest element\n",
    "max(s)           # largest element\n",
    "s.count('a')     # how many times does 'a' occur"
   ]
  },
  {
   "cell_type": "markdown",
   "metadata": {
    "slideshow": {
     "slide_type": "slide"
    }
   },
   "source": [
    "# Dictionaries\n",
    "\n",
    "* Dictionaries are associative arrays\n",
    "* Associate a key with a value\n",
    "* Key can be any immutable type (string, number, tuple)\n",
    "* Value can be anything\n",
    "* O(1) access to elements (hash table)\n",
    "* Compare with lists that are O(n)\n"
   ]
  },
  {
   "cell_type": "markdown",
   "metadata": {
    "slideshow": {
     "slide_type": "slide"
    }
   },
   "source": [
    "# Dictionaries"
   ]
  },
  {
   "cell_type": "code",
   "execution_count": 21,
   "metadata": {
    "slideshow": {
     "slide_type": "fragment"
    }
   },
   "outputs": [
    {
     "data": {
      "text/plain": [
       "{'name': 'Steve Cassidy', 'age': 53, 'weight': 80}"
      ]
     },
     "execution_count": 21,
     "metadata": {},
     "output_type": "execute_result"
    }
   ],
   "source": [
    "info = dict()\n",
    "info['name'] = 'Steve Cassidy'\n",
    "info['age'] = 53\n",
    "info['weight'] = 80\n",
    "info"
   ]
  },
  {
   "cell_type": "code",
   "execution_count": 22,
   "metadata": {
    "slideshow": {
     "slide_type": "fragment"
    }
   },
   "outputs": [
    {
     "data": {
      "text/plain": [
       "53"
      ]
     },
     "execution_count": 22,
     "metadata": {},
     "output_type": "execute_result"
    }
   ],
   "source": [
    "info = {\n",
    "    'name': 'Steve Cassidy', \n",
    "    'age': 53, \n",
    "    'weight': 80\n",
    "}\n",
    "info['age']"
   ]
  },
  {
   "cell_type": "code",
   "execution_count": 26,
   "metadata": {
    "slideshow": {
     "slide_type": "fragment"
    }
   },
   "outputs": [
    {
     "name": "stdout",
     "output_type": "stream",
     "text": [
      "Age:  53\n"
     ]
    }
   ],
   "source": [
    "if 'age' in info:\n",
    "    print(\"Age: \", info['age'])"
   ]
  }
 ],
 "metadata": {
  "celltoolbar": "Slideshow",
  "kernelspec": {
   "display_name": "Python 3 (ipykernel)",
   "language": "python",
   "name": "python3"
  },
  "language_info": {
   "codemirror_mode": {
    "name": "ipython",
    "version": 3
   },
   "file_extension": ".py",
   "mimetype": "text/x-python",
   "name": "python",
   "nbconvert_exporter": "python",
   "pygments_lexer": "ipython3",
   "version": "3.9.7"
  }
 },
 "nbformat": 4,
 "nbformat_minor": 4
}
