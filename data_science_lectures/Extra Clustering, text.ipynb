{
 "cells": [
  {
   "cell_type": "markdown",
   "metadata": {},
   "source": [
    "## Agenda\n",
    "\n",
    "- hierarchical clustering\n",
    "- more features from text: bigrams, tf-idf, sentiment\n",
    "- Naive Bayes classifiers\n",
    "- Training, Testing and Validation in supervised learning\n"
   ]
  },
  {
   "cell_type": "markdown",
   "metadata": {},
   "source": [
    "## Hierarchical Clustering\n",
    "\n",
    "Last week we saw KMeans clustering - grouping points together based on thier distance from a centroid and repeating until there are no changes in the centroid position. \n",
    "\n",
    "KMeans is good if you know how many clusters to expect.\n",
    "\n",
    "If you don't know how many clusters there might be, **Hierarchical Clustering** may be more useful.\n",
    "\n",
    "###  Bottom Up\n",
    "\n",
    "Bottom up (*agglomorative*) clustering is easiest to understand.  We start with the idea of *similarity* that is used in\n",
    "KMeans to measure how close together two items are and compute an $N x N$ *similarity matrix* containing\n",
    "the similarity between all pairs of items.  \n",
    "\n",
    "We then select the closest pair of items and merge them into our first cluster of two.\n",
    "\n",
    "Next we merge the next closest.  This could be another two single items or it could be one item and\n",
    "the just created cluster of two.  To measure the distance from the cluster we need a function that \n",
    "can compare clusters - this could just be a measure between the means of all cluster points or something\n",
    "more complex.\n",
    "\n",
    "This continues until there is just one cluster. \n",
    "\n",
    "We can visualise the clustering with a **dendrogram** -- a tree-like display of the clusters as they grow."
   ]
  },
  {
   "cell_type": "code",
   "execution_count": 40,
   "metadata": {},
   "outputs": [
    {
     "data": {
      "image/png": "[encoded data removed]",
      "text/plain": [
       "<matplotlib.figure.Figure at 0x7f7dc9ed4c50>"
      ]
     },
     "metadata": {},
     "output_type": "display_data"
    }
   ],
   "source": [
    "import pandas as pd\n",
    "import matplotlib.pylab as plt\n",
    "from scipy.cluster.hierarchy import linkage, dendrogram\n",
    "from scipy.spatial.distance import pdist\n",
    "\n",
    "\n",
    "names = ['mpg', 'cylinders', 'displacement', 'horsepower', 'weight', 'acceleration', 'year', 'origin', 'name']\n",
    "autompg = pd.read_csv('files/auto-mpg.data', delim_whitespace=True, names=names)\n",
    "autompgN = autompg.drop('name', axis=1)\n",
    "names = autompg['name']\n",
    "\n",
    "dist = pdist(autompgN, 'euclidean')\n",
    "linkage_matrix = linkage(dist,method = 'complete')\n",
    "\n",
    "plt.figure()  # we need a tall figure\n",
    "fig = plt.gcf()\n",
    "fig.set_size_inches((12,12))\n",
    "dendrogram(linkage_matrix);\n",
    "\n",
    "plt.show()\n"
   ]
  },
  {
   "cell_type": "markdown",
   "metadata": {},
   "source": [
    "Based on this clustering we can look to see how many clusters make sense for the data. The height of the lines joining clusters is a measure of how far they are from each other.\n",
    "\n",
    "In this example it looks like there are two major clusters (red and green) The height of the blue lines is quite big suggesting that these two groups are quite distinct.  However there is also a big difference at the next level, so we might suggest that four major clusters are represented in the data. \n",
    "\n",
    "We could then look at which cars were in these clusters to see if they make sense.  \n",
    "\n",
    "When would you use this? \n",
    "\n",
    "\n",
    "** Defining the similarity of two clusters:**\n",
    "\n",
    "The linkage criterion determines the metric used for the merge strategy:\n",
    "\n",
    "+ *Maximum* or *complete* linkage minimizes the maximum distance between observations of pairs of clusters. Based on the similarity of the two least similar members, it will give tight spherical clusters.\n",
    "\n",
    "+ *Average* linkage averages similarity between members i.e. minimizes the average of the distances between all observations of pairs of clusters.\n",
    "\n",
    "+ *Single* linkage works on the similarity of two most similar members. It can create chain effects, such as follow the nearest neighbor.\n",
    "\n",
    "+ *Ward* minimizes the sum of squared differences within all clusters. It is a variance-minimizing approach and in this sense is similar to the k-means objective function but tackled with an agglomerative hierarchical approach.\n",
    "\n",
    "\n",
    "## Top Down\n",
    "\n",
    "Top down hierarchical clustering works by first splitting the data into two, then splitting each of those clusters into two.   The process stops either when a target number of clusters is reached or there is one item per cluster.\n",
    "\n",
    "To split the data in two, another clustering algorithm is needed.  This could be KMeans clustering for example.\n",
    "\n",
    "This are more efficient than Bottom Up since fewer comparisons may be needed (we don't need to compute every pairwise distance, just distance from each point to the cluster centroids)."
   ]
  },
  {
   "cell_type": "markdown",
   "metadata": {},
   "source": [
    "## More Features from Text\n",
    "\n",
    "Last week we looked at how to turn text into feature vectors so that we can analyse it. This week I want to introduce sentiment analysis and discuss how it can be used and how it is done.\n",
    "\n",
    "Sentiment analysis is a machine learning task - given a text, predict the value of *polarity* where a polarity of +1 indicates a very positive sentiment and -1 indicates a negative one.  A text expresses sentiment towards something or other - a movie, a brand, so sentiment isn't an absolute thing.  \n",
    "\n",
    "Since it is an ML task, we need *training data* to train a model of some kind.  So we gather examples texts\n",
    "and someone ranks them as positive or negative sentiment towards their subject.  One common source is movie\n",
    "reviews since people often rank a movie numerically as well as leaving a textual review.\n",
    "\n",
    "> **1 Star** I was unbelievably bored and extremely frustrated because who cares. It's a filler movie! You know.. those movies in the middle of epic ones just to keep things moving. Boring actors maybe it was. Omg I want my money back I paid for 6 premium tickets! Not happy at all \n",
    "\n",
    "> **4 Stars** I must be born in another universe, because everyone keeps referring to this film as a side story when in fact it's a direct prequel to the first Star Wars (the devil take Lucas' mind control order, \"This is the 4th film, not the 1st.\"). The rebels of the Rebel Alliance (that's rebellion twice removed) breakaway to steal the plans for the Empire's uberweapon, and it's as rousing and rollicking a tale as the first one was. Star Wars is back, baby, and as mad as hell. See it all ye fans.\n",
    "\n",
    "First let's look at a package that can give us an out of the box sentiment measure. This is the [textblob](https://textblob.readthedocs.io/en/dev/) package which makes use of [NLTK](http://www.nltk.org/) which is\n",
    "a widely used Python module for natural language processing. \n"
   ]
  },
  {
   "cell_type": "code",
   "execution_count": 11,
   "metadata": {},
   "outputs": [
    {
     "name": "stdout",
     "output_type": "stream",
     "text": [
      "[nltk_data] Downloading package punkt to /home/jovyan/nltk_data...\n",
      "[nltk_data]   Package punkt is already up-to-date!\n",
      "[nltk_data] Downloading package averaged_perceptron_tagger to\n",
      "[nltk_data]     /home/jovyan/nltk_data...\n",
      "[nltk_data]   Package averaged_perceptron_tagger is already up-to-\n",
      "[nltk_data]       date!\n",
      "[nltk_data] Downloading package brown to /home/jovyan/nltk_data...\n",
      "[nltk_data]   Package brown is already up-to-date!\n"
     ]
    }
   ],
   "source": [
    "import nltk\n",
    "nltk.download('punkt')\n",
    "nltk.download('averaged_perceptron_tagger')\n",
    "nltk.download('brown')\n",
    "\n",
    "from textblob import TextBlob"
   ]
  },
  {
   "cell_type": "code",
   "execution_count": 50,
   "metadata": {},
   "outputs": [
    {
     "name": "stdout",
     "output_type": "stream",
     "text": [
      "0.7125 0.675 This is a great course, I love the examples in the notebooks!\n",
      "0.0 0.0 However, Steve is sometimes a bit disorganised and can't get them to work.\n",
      "0.2 0.4 On the whole though I like what is happening.\n",
      "-0.175 0.33333333333333337 I saw Star Trek last week\n",
      "and it was not a good experience.\n",
      "-0.8 0.9 We hate the way that they make them these days.\n",
      "0.0 0.0 His name was Mr. Bobalooba and he could dance like a daemon!\n"
     ]
    }
   ],
   "source": [
    "\n",
    "text = '''This is a great course, I love the examples in the notebooks! \n",
    "However, Steve is sometimes a bit disorganised and can't get them to work.\n",
    "On the whole though I like what is happening.  I saw Star Trek last week\n",
    "and it was not a good experience.  We hate the way that they make them these days.\n",
    "His name was Mr. Bobalooba and he could dance like a daemon!\n",
    "'''\n",
    "\n",
    "blob = TextBlob(text)\n",
    "\n",
    "for sentence in blob.sentences:\n",
    "    print(sentence.sentiment.polarity, sentence.sentiment.subjectivity, sentence)\n"
   ]
  },
  {
   "cell_type": "code",
   "execution_count": 51,
   "metadata": {},
   "outputs": [
    {
     "data": {
      "text/plain": [
       "Sentiment(polarity=-0.35, subjectivity=0.6000000000000001)"
      ]
     },
     "execution_count": 51,
     "metadata": {},
     "output_type": "execute_result"
    }
   ],
   "source": [
    "TextBlob(\"This is not a good movie\").sentiment"
   ]
  },
  {
   "cell_type": "markdown",
   "metadata": {},
   "source": [
    "## Naive Bayes Classifier\n",
    "\n",
    "This is another classification algorithm (cf. logistic regression) [this blog post](https://monkeylearn.com/blog/practical-explanation-naive-bayes-classifier/) has a good exposition.\n",
    "\n",
    "We have a range of ML algorithms to classify observations [how do you choose between them](http://blog.echen.me/2011/04/27/choosing-a-machine-learning-classifier/)? \n",
    "\n",
    "See the [TextBlob Classifiers Tutorial](https://textblob.readthedocs.io/en/dev/classifiers.html#classifiers) for an example of how to build a text classifier using Naive Bayes.\n",
    "\n",
    "## Text Features\n",
    "\n",
    "Talk about:\n",
    "\n",
    "- Using TF-IDF scaling on words as features (Textbook Section 10.3, [SciKit-learn documentation](http://scikit-learn.org/stable/modules/feature_extraction.html#tfidf-term-weighting))\n",
    "- Using bigrams and trigrams instead of just words (Textbook Section 10.3.1)\n",
    "\n",
    "\n",
    "## Training, Testing and Validation\n",
    "\n",
    "The importance of splitting datasets when training predictive models (Textbook Section 5.6)\n",
    "\n",
    "Cross-validation as an optimisation method.  (Textbook Section 5.3, 5.6)\n"
   ]
  }
 ],
 "metadata": {
  "anaconda-cloud": {},
  "kernelspec": {
   "display_name": "Python 3",
   "language": "python",
   "name": "python3"
  },
  "language_info": {
   "codemirror_mode": {
    "name": "ipython",
    "version": 3
   },
   "file_extension": ".py",
   "mimetype": "text/x-python",
   "name": "python",
   "nbconvert_exporter": "python",
   "pygments_lexer": "ipython3",
   "version": "3.8.3"
  }
 },
 "nbformat": 4,
 "nbformat_minor": 2
}
