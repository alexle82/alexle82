{
 "cells": [
  {
   "cell_type": "markdown",
   "metadata": {
    "slideshow": {
     "slide_type": "slide"
    }
   },
   "source": [
    "## Data Cleaning\n",
    "\n",
    " * Data Quality (validity, accuracy, completeness, consistency, uniformity)\n",
    " * The workflow \n",
    "     * Inspection (data profiling, visualizations, software packages)\n",
    "     * Cleaning (irrelevant data, duplicates, type conver., syntax errors, 6 more)\n",
    "     * Verifying\n",
    "     * Reporting\n",
    "\n",
    "[The Ultimate Guide to Data Cleaning](https://towardsdatascience.com/the-ultimate-guide-to-data-cleaning-3969843991d4) from Toward Data Science."
   ]
  },
  {
   "cell_type": "markdown",
   "metadata": {
    "slideshow": {
     "slide_type": "slide"
    }
   },
   "source": [
    "## Data Formats\n",
    "\n",
    "* Data comes from various systems or databases\n",
    "* Often dumped in some easy to generate format: CSV, JSON, XML\n",
    "* Sometimes reading data not intended for re-use: text, audio/video metadata\n",
    "* A few file formats specific to structured data interchange: HDF5\n",
    "\n",
    "[How to read most commonly used data formats...](https://www.analyticsvidhya.com/blog/2017/03/read-commonly-used-formats-using-python/)"
   ]
  },
  {
   "cell_type": "markdown",
   "metadata": {
    "slideshow": {
     "slide_type": "slide"
    }
   },
   "source": [
    "## Reading XML Data\n",
    "\n",
    "- XML is a widely used file format for data on the web.\n",
    "- It is actually a document markup language like HTML, so it can represent quite complex structures. \n",
    "- However it is often used to store simple tabular data as well.\n",
    "\n",
    "Here's a [sample XML file](files/sample.xml).\n",
    "\n",
    "We can use the Python [xml ElementTree module](https://docs.python.org/3.6/library/xml.etree.elementtree.html)\n",
    "to parse XML data into a Python data structure.  In the case of this \n",
    "sample file, it consists of many &lt;record> elements each with four data points. We want to parse into \n",
    "a dataframe with four columns. \n"
   ]
  },
  {
   "cell_type": "code",
   "execution_count": 1,
   "metadata": {
    "slideshow": {
     "slide_type": "slide"
    }
   },
   "outputs": [
    {
     "name": "stdout",
     "output_type": "stream",
     "text": [
      "Name Hedy\n",
      "Date 2018-04-14T08:51:54-07:00\n",
      "City Sijsele\n",
      "Amount 105.06\n",
      "Name Indigo\n",
      "Date 2018-07-07T06:54:04-07:00\n",
      "City Panquehue\n",
      "Amount 103.76\n",
      "Name Jolene\n",
      "Date 2017-04-27T10:06:16-07:00\n",
      "City Dijon\n",
      "Amount 110.29\n",
      "Name Bradley\n",
      "Date 2017-11-11T07:26:54-08:00\n",
      "City Neuss\n",
      "Amount 94.8\n",
      "Name Clementine\n",
      "Date 2017-05-09T05:26:05-07:00\n",
      "City Helena\n",
      "Amount 96.83\n",
      "Name Ava\n",
      "Date 2018-04-21T00:46:05-07:00\n",
      "City Kayseri\n",
      "Amount 98.34\n",
      "Name Basia\n",
      "Date 2017-02-14T20:21:11-08:00\n",
      "City Monte Santa Maria Tiberina\n",
      "Amount 94.41\n",
      "Name Declan\n",
      "Date 2018-05-24T01:47:22-07:00\n",
      "City Champlain\n",
      "Amount 95.69\n",
      "Name Bernard\n",
      "Date 2017-07-11T09:45:20-07:00\n",
      "City Blaenau Ffestiniog\n",
      "Amount 100.71\n",
      "Name Shelley\n",
      "Date 2018-02-28T01:34:08-08:00\n",
      "City Ergani\n",
      "Amount 99.09\n",
      "Name Amanda\n",
      "Date 2017-07-28T16:09:47-07:00\n",
      "City Dallas\n",
      "Amount 103\n",
      "Name Benedict\n",
      "Date 2017-12-09T21:52:06-08:00\n",
      "City Sperlinga\n",
      "Amount 107.65\n",
      "Name Lamar\n",
      "Date 2017-11-07T09:04:12-08:00\n",
      "City Stralsund\n",
      "Amount 101.31\n",
      "Name Aiko\n",
      "Date 2016-09-06T01:58:15-07:00\n",
      "City Rovereto\n",
      "Amount 99.27\n",
      "Name Quamar\n",
      "Date 2017-01-02T11:40:34-08:00\n",
      "City Rosoux-Crenwick\n",
      "Amount 108.94\n",
      "Name Trevor\n",
      "Date 2016-12-23T23:05:25-08:00\n",
      "City Quillón\n",
      "Amount 102.85\n",
      "Name Quyn\n",
      "Date 2017-05-18T02:40:14-07:00\n",
      "City Scorrano\n",
      "Amount 107.43\n",
      "Name Orli\n",
      "Date 2017-05-22T21:17:46-07:00\n",
      "City Gurgaon\n",
      "Amount 96.9\n",
      "Name Asher\n",
      "Date 2017-06-27T22:37:34-07:00\n",
      "City Colmar\n",
      "Amount 95.82\n",
      "Name Noel\n",
      "Date 2017-01-10T23:47:47-08:00\n",
      "City Yahyalı\n",
      "Amount 101.18\n",
      "Name Kermit\n",
      "Date 2017-05-09T21:45:02-07:00\n",
      "City Sint-Genesius-Rode\n",
      "Amount 106.2\n",
      "Name Cassidy\n",
      "Date 2018-07-09T15:24:14-07:00\n",
      "City Ñuñoa\n",
      "Amount 98.59\n",
      "Name Harper\n",
      "Date 2017-12-20T15:56:09-08:00\n",
      "City Edam\n",
      "Amount 102.21\n",
      "Name Aileen\n",
      "Date 2017-04-03T18:48:49-07:00\n",
      "City Sijsele\n",
      "Amount 99\n",
      "Name Katelyn\n",
      "Date 2017-12-13T09:38:02-08:00\n",
      "City Berloz\n",
      "Amount 90.73\n",
      "Name Levi\n",
      "Date 2016-11-06T00:13:11-07:00\n",
      "City San Rafael Abajo\n",
      "Amount 100.01\n",
      "Name Venus\n",
      "Date 2017-04-19T09:33:45-07:00\n",
      "City Marabá\n",
      "Amount 101.3\n",
      "Name Miranda\n",
      "Date 2017-07-07T08:28:21-07:00\n",
      "City Provo\n",
      "Amount 104.25\n",
      "Name Dante\n",
      "Date 2016-09-10T14:10:12-07:00\n",
      "City Westkerke\n",
      "Amount 96.53\n",
      "Name Alexander\n",
      "Date 2017-02-12T04:46:54-08:00\n",
      "City Gasp�\n",
      "Amount 92.53\n",
      "Name Gary\n",
      "Date 2017-02-26T12:31:42-08:00\n",
      "City Omal\n",
      "Amount 101.12\n",
      "Name Noel\n",
      "Date 2017-05-14T21:14:34-07:00\n",
      "City Paris\n",
      "Amount 96.75\n",
      "Name Molly\n",
      "Date 2016-08-26T20:56:02-07:00\n",
      "City Rovereto\n",
      "Amount 99.04\n",
      "Name Nerea\n",
      "Date 2017-06-17T16:39:15-07:00\n",
      "City Maser\n",
      "Amount 100.25\n",
      "Name Aidan\n",
      "Date 2016-10-18T12:37:33-07:00\n",
      "City Malartic\n",
      "Amount 99.38\n",
      "Name Beck\n",
      "Date 2016-10-03T20:01:18-07:00\n",
      "City Romano d'Ezzelino\n",
      "Amount 97.83\n",
      "Name Dane\n",
      "Date 2017-01-14T00:04:39-08:00\n",
      "City Merbes-Sainte-Marie\n",
      "Amount 111.99\n",
      "Name Zoe\n",
      "Date 2017-06-22T21:18:15-07:00\n",
      "City Kidderminster\n",
      "Amount 111.39\n",
      "Name Arsenio\n",
      "Date 2016-12-19T09:34:18-08:00\n",
      "City Lichtaart\n",
      "Amount 92.69\n",
      "Name Grant\n",
      "Date 2016-09-29T02:40:11-07:00\n",
      "City Cáceres\n",
      "Amount 89.98\n",
      "Name Hector\n",
      "Date 2017-08-04T05:02:58-07:00\n",
      "City Ancarano\n",
      "Amount 99.9\n",
      "Name Igor\n",
      "Date 2017-04-29T20:50:19-07:00\n",
      "City Roccanova\n",
      "Amount 99.08\n",
      "Name Daquan\n",
      "Date 2017-04-15T16:37:48-07:00\n",
      "City Campochiaro\n",
      "Amount 96.72\n",
      "Name Tanya\n",
      "Date 2016-08-24T01:35:12-07:00\n",
      "City Neumünster\n",
      "Amount 97.98\n",
      "Name Fleur\n",
      "Date 2018-03-30T11:44:49-07:00\n",
      "City Bloomington\n",
      "Amount 88.31\n",
      "Name Kai\n",
      "Date 2016-09-26T04:25:05-07:00\n",
      "City Los Andes\n",
      "Amount 102.78\n",
      "Name Audra\n",
      "Date 2016-11-01T14:46:24-07:00\n",
      "City Walhain-Saint-Paul\n",
      "Amount 90.26\n",
      "Name Ivory\n",
      "Date 2018-02-21T15:28:14-08:00\n",
      "City Chełm\n",
      "Amount 89.4\n",
      "Name Tucker\n",
      "Date 2017-08-05T21:08:12-07:00\n",
      "City Basingstoke\n",
      "Amount 107.55\n",
      "Name Freya\n",
      "Date 2018-01-11T07:25:00-08:00\n",
      "City Borgomaro\n",
      "Amount 98.36\n",
      "Name Inez\n",
      "Date 2017-11-03T22:00:29-07:00\n",
      "City Molfetta\n",
      "Amount 100.16\n",
      "Name Ava\n",
      "Date 2018-03-08T04:29:24-08:00\n",
      "City Gualdo Tadino\n",
      "Amount 91.25\n",
      "Name Clio\n",
      "Date 2018-04-22T13:46:27-07:00\n",
      "City Gavirate\n",
      "Amount 102.67\n",
      "Name Claire\n",
      "Date 2017-08-24T18:43:00-07:00\n",
      "City North Las Vegas\n",
      "Amount 105.97\n",
      "Name Joshua\n",
      "Date 2017-06-19T11:26:58-07:00\n",
      "City VTM\n",
      "Amount 101.03\n",
      "Name Elvis\n",
      "Date 2016-11-05T21:53:06-07:00\n",
      "City Saint-Malo\n",
      "Amount 93.38\n",
      "Name Cooper\n",
      "Date 2018-03-23T23:02:25-07:00\n",
      "City Toledo\n",
      "Amount 86.5\n",
      "Name Grady\n",
      "Date 2016-09-17T06:10:04-07:00\n",
      "City Illapel\n",
      "Amount 100.44\n",
      "Name Ingrid\n",
      "Date 2017-06-12T17:16:55-07:00\n",
      "City Ligosullo\n",
      "Amount 111.34\n",
      "Name Brandon\n",
      "Date 2018-03-29T09:59:58-07:00\n",
      "City Coevorden\n",
      "Amount 92.28\n",
      "Name Naida\n",
      "Date 2017-05-26T16:42:54-07:00\n",
      "City Ambala\n",
      "Amount 108.19\n",
      "Name Rowan\n",
      "Date 2017-08-11T11:42:36-07:00\n",
      "City Villa Agnedo\n",
      "Amount 98.7\n",
      "Name Georgia\n",
      "Date 2017-05-23T16:50:07-07:00\n",
      "City Los Vilos\n",
      "Amount 105.64\n",
      "Name Lars\n",
      "Date 2017-11-07T02:18:39-08:00\n",
      "City Maidstone\n",
      "Amount 103.52\n",
      "Name Melodie\n",
      "Date 2017-10-20T05:52:32-07:00\n",
      "City Lanklaar\n",
      "Amount 103.73\n",
      "Name Bernard\n",
      "Date 2016-09-17T12:05:52-07:00\n",
      "City Regensburg\n",
      "Amount 90.59\n",
      "Name Dahlia\n",
      "Date 2016-11-05T10:49:48-07:00\n",
      "City Sorgà\n",
      "Amount 88.86\n",
      "Name Jakeem\n",
      "Date 2017-08-03T20:14:07-07:00\n",
      "City Weyburn\n",
      "Amount 103.52\n",
      "Name Ulysses\n",
      "Date 2017-11-07T09:33:37-08:00\n",
      "City Culemborg\n",
      "Amount 100.96\n",
      "Name Paul\n",
      "Date 2016-11-06T22:41:18-08:00\n",
      "City Satna\n",
      "Amount 91.3\n",
      "Name Yasir\n",
      "Date 2016-09-13T03:51:59-07:00\n",
      "City Bromley\n",
      "Amount 99.06\n",
      "Name Wallace\n",
      "Date 2018-04-09T17:55:08-07:00\n",
      "City Córdoba\n",
      "Amount 98.27\n",
      "Name Ciara\n",
      "Date 2017-02-11T07:35:02-08:00\n",
      "City Cirencester\n",
      "Amount 107.37\n",
      "Name Rachel\n",
      "Date 2016-12-16T20:03:51-08:00\n",
      "City Nogales\n",
      "Amount 100.49\n",
      "Name Winifred\n",
      "Date 2018-06-16T03:09:29-07:00\n",
      "City Zaffelare\n",
      "Amount 100.92\n",
      "Name Lars\n",
      "Date 2017-07-03T15:30:33-07:00\n",
      "City Ila\n",
      "Amount 94.86\n",
      "Name Blossom\n",
      "Date 2016-11-10T20:29:25-08:00\n",
      "City Sarre\n",
      "Amount 107.19\n",
      "Name Madeline\n",
      "Date 2016-09-29T15:55:39-07:00\n",
      "City Visso\n",
      "Amount 92.54\n",
      "Name Maxine\n",
      "Date 2017-09-02T20:06:10-07:00\n",
      "City Warisoulx\n",
      "Amount 106.18\n",
      "Name Rose\n",
      "Date 2016-11-26T12:30:38-08:00\n",
      "City Chestermere\n",
      "Amount 109.39\n",
      "Name Thor\n",
      "Date 2017-06-19T06:53:27-07:00\n",
      "City Fort Providence\n",
      "Amount 103.45\n",
      "Name Jakeem\n",
      "Date 2016-09-19T20:31:41-07:00\n",
      "City Zaanstad\n",
      "Amount 103.11\n",
      "Name Camilla\n",
      "Date 2017-03-31T07:54:04-07:00\n",
      "City Kraków\n",
      "Amount 97.53\n",
      "Name Forrest\n",
      "Date 2017-08-05T08:21:46-07:00\n",
      "City Neath\n",
      "Amount 102.61\n",
      "Name Jelani\n",
      "Date 2018-02-21T22:50:28-08:00\n",
      "City Clovenfords\n",
      "Amount 96.33\n",
      "Name Scarlet\n",
      "Date 2018-01-02T20:21:10-08:00\n",
      "City North Berwick\n",
      "Amount 102.8\n",
      "Name Sydney\n",
      "Date 2016-09-12T15:32:09-07:00\n",
      "City Pointe-aux-Trembles\n",
      "Amount 107.23\n",
      "Name Malcolm\n",
      "Date 2017-08-21T08:05:15-07:00\n",
      "City Sint-Lambrechts-Herk\n",
      "Amount 103.95\n",
      "Name Gretchen\n",
      "Date 2017-09-05T02:28:48-07:00\n",
      "City Linares\n",
      "Amount 104.51\n",
      "Name Drew\n",
      "Date 2016-12-24T06:48:52-08:00\n",
      "City Deurne\n",
      "Amount 109.36\n",
      "Name Olga\n",
      "Date 2018-06-16T22:15:26-07:00\n",
      "City Iqaluit\n",
      "Amount 99.24\n",
      "Name Debra\n",
      "Date 2017-02-11T03:42:37-08:00\n",
      "City Dunbar\n",
      "Amount 111.93\n",
      "Name Audra\n",
      "Date 2017-01-28T09:58:55-08:00\n",
      "City Vagli Sotto\n",
      "Amount 107.56\n",
      "Name Ignacia\n",
      "Date 2018-04-05T13:48:50-07:00\n",
      "City Billings\n",
      "Amount 99.25\n",
      "Name Summer\n",
      "Date 2017-02-09T23:09:02-08:00\n",
      "City Huizingen\n",
      "Amount 113.74\n",
      "Name Lesley\n",
      "Date 2017-08-29T04:35:51-07:00\n",
      "City Parla\n",
      "Amount 93.11\n",
      "Name Amelia\n",
      "Date 2018-03-01T13:47:04-08:00\n",
      "City Obaix\n",
      "Amount 93.88\n",
      "Name Devin\n",
      "Date 2017-02-04T05:37:12-08:00\n",
      "City Novo Hamburgo\n",
      "Amount 101.53\n",
      "Name Abdul\n",
      "Date 2018-07-06T08:55:19-07:00\n",
      "City Castelvetere in Val Fortore\n",
      "Amount 108.33\n",
      "Name Demetria\n",
      "Date 2018-02-03T16:04:08-08:00\n",
      "City Parkland County\n",
      "Amount 99.27\n"
     ]
    }
   ],
   "source": [
    "import pandas as pd\n",
    "import xml.etree.ElementTree as ET\n",
    "tree = ET.parse('files/sample.xml')\n",
    "root = tree.getroot()\n",
    "# print every row with xml tag and xml text \n",
    "for row in root:\n",
    "    for child in row:\n",
    "        print(child.tag, child.text)\n"
   ]
  },
  {
   "cell_type": "markdown",
   "metadata": {
    "slideshow": {
     "slide_type": "slide"
    }
   },
   "source": [
    "## Creating Data Frames\n",
    "\n",
    "- Want to create a `DataFrame` from the XML input\n",
    "- Tag names should translate to column names\n",
    "- Best option is to first make a __list of dictionaries__\n",
    "- One dictionary per row, then pass to `DataFrame` constructor"
   ]
  },
  {
   "cell_type": "code",
   "execution_count": 2,
   "metadata": {
    "slideshow": {
     "slide_type": "slide"
    }
   },
   "outputs": [
    {
     "name": "stdout",
     "output_type": "stream",
     "text": [
      "         Name                       Date                        City  Amount\n",
      "0        Hedy  2018-04-14T08:51:54-07:00                     Sijsele  105.06\n",
      "1      Indigo  2018-07-07T06:54:04-07:00                   Panquehue  103.76\n",
      "2      Jolene  2017-04-27T10:06:16-07:00                       Dijon  110.29\n",
      "3     Bradley  2017-11-11T07:26:54-08:00                       Neuss    94.8\n",
      "4  Clementine  2017-05-09T05:26:05-07:00                      Helena   96.83\n",
      "5         Ava  2018-04-21T00:46:05-07:00                     Kayseri   98.34\n",
      "6       Basia  2017-02-14T20:21:11-08:00  Monte Santa Maria Tiberina   94.41\n",
      "7      Declan  2018-05-24T01:47:22-07:00                   Champlain   95.69\n",
      "8     Bernard  2017-07-11T09:45:20-07:00          Blaenau Ffestiniog  100.71\n",
      "9     Shelley  2018-02-28T01:34:08-08:00                      Ergani   99.09\n",
      "<class 'pandas.core.frame.DataFrame'>\n",
      "RangeIndex: 100 entries, 0 to 99\n",
      "Data columns (total 4 columns):\n",
      " #   Column  Non-Null Count  Dtype \n",
      "---  ------  --------------  ----- \n",
      " 0   Name    100 non-null    object\n",
      " 1   Date    100 non-null    object\n",
      " 2   City    100 non-null    object\n",
      " 3   Amount  100 non-null    object\n",
      "dtypes: object(4)\n",
      "memory usage: 3.2+ KB\n"
     ]
    }
   ],
   "source": [
    "tree = ET.parse('files/sample.xml')\n",
    "root = tree.getroot()\n",
    "data = []\n",
    "for row in root:\n",
    "    # create a dictionary for each row\n",
    "    datarow = {}\n",
    "    for child in row:\n",
    "        # dictionary key is the tag name, value is the text in the tag. This one is to create a dictionary for each row. \n",
    "        datarow[child.tag] = child.text\n",
    "    data.append(datarow) \n",
    "    \n",
    "\n",
    "#now make a dataframe from this list of dictionaries\n",
    "df = pd.DataFrame(data)\n",
    "print(df.head(10))\n",
    "df.info()"
   ]
  },
  {
   "cell_type": "markdown",
   "metadata": {
    "slideshow": {
     "slide_type": "slide"
    }
   },
   "source": [
    "## Date Fields\n",
    "\n",
    "- In this example we have a field `Date` that is a date in ISO format\n",
    "- Eg. `2017-04-27T10:06:16-07:00`\n",
    "- Would be better to treat as a date rather than a string\n",
    "- Python has `datetime` objects to represent dates\n",
    "- Pandas provides `pd.to_datetime()` to convert a Series to datetimes (if they have the right format)"
   ]
  },
  {
   "cell_type": "code",
   "execution_count": 12,
   "metadata": {
    "slideshow": {
     "slide_type": "slide"
    }
   },
   "outputs": [
    {
     "name": "stdout",
     "output_type": "stream",
     "text": [
      "43    2016-08-24 01:35:12-07:00\n",
      "32    2016-08-26 20:56:02-07:00\n",
      "13    2016-09-06 01:58:15-07:00\n",
      "28    2016-09-10 14:10:12-07:00\n",
      "86    2016-09-12 15:32:09-07:00\n",
      "                ...            \n",
      "74    2018-06-16 03:09:29-07:00\n",
      "90    2018-06-16 22:15:26-07:00\n",
      "98    2018-07-06 08:55:19-07:00\n",
      "1     2018-07-07 06:54:04-07:00\n",
      "21    2018-07-09 15:24:14-07:00\n",
      "Name: Date, Length: 100, dtype: object\n",
      "<class 'pandas.core.frame.DataFrame'>\n",
      "Int64Index: 100 entries, 43 to 21\n",
      "Data columns (total 4 columns):\n",
      " #   Column  Non-Null Count  Dtype  \n",
      "---  ------  --------------  -----  \n",
      " 0   Name    100 non-null    object \n",
      " 1   Date    100 non-null    object \n",
      " 2   City    100 non-null    object \n",
      " 3   Amount  100 non-null    float64\n",
      "dtypes: float64(1), object(3)\n",
      "memory usage: 3.9+ KB\n"
     ]
    }
   ],
   "source": [
    "# read the data and coerce the Amount column to floats\n",
    "df = pd.DataFrame(data).astype({'Amount': 'float64'})\n",
    "# sort on date\n",
    "df = df.sort_values('Date')\n",
    "# create a series from the dates as datetimes\n",
    "dates = pd.to_datetime(df.Date)\n",
    "print(dates)\n",
    "df['Date'] = dates\n",
    "df.info()"
   ]
  },
  {
   "cell_type": "markdown",
   "metadata": {
    "slideshow": {
     "slide_type": "slide"
    }
   },
   "source": [
    "## Date field as Index\n",
    "\n",
    "- Recall that the index of a `DataFrame` or `Series` is used to access rows\n",
    "- By default this is a series of integers: 0, 1, 2, etc\n",
    "- But it can be any useful identifier\n",
    "- Useful to use these dates as the index\n",
    "- Our data frame then becomes a [time series](http://pandas.pydata.org/pandas-docs/stable/timeseries.html)"
   ]
  },
  {
   "cell_type": "code",
   "execution_count": 16,
   "metadata": {
    "slideshow": {
     "slide_type": "slide"
    }
   },
   "outputs": [
    {
     "ename": "ValueError",
     "evalue": "Tz-aware datetime.datetime cannot be converted to datetime64 unless utc=True",
     "output_type": "error",
     "traceback": [
      "\u001b[0;31m---------------------------------------------------------------------------\u001b[0m",
      "\u001b[0;31mValueError\u001b[0m                                Traceback (most recent call last)",
      "\u001b[0;32m~/opt/anaconda3/lib/python3.9/site-packages/pandas/core/arrays/datetimes.py\u001b[0m in \u001b[0;36mobjects_to_datetime64ns\u001b[0;34m(data, dayfirst, yearfirst, utc, errors, require_iso8601, allow_object, allow_mixed)\u001b[0m\n\u001b[1;32m   2186\u001b[0m         \u001b[0;32mtry\u001b[0m\u001b[0;34m:\u001b[0m\u001b[0;34m\u001b[0m\u001b[0;34m\u001b[0m\u001b[0m\n\u001b[0;32m-> 2187\u001b[0;31m             \u001b[0mvalues\u001b[0m\u001b[0;34m,\u001b[0m \u001b[0mtz_parsed\u001b[0m \u001b[0;34m=\u001b[0m \u001b[0mconversion\u001b[0m\u001b[0;34m.\u001b[0m\u001b[0mdatetime_to_datetime64\u001b[0m\u001b[0;34m(\u001b[0m\u001b[0mdata\u001b[0m\u001b[0;34m.\u001b[0m\u001b[0mravel\u001b[0m\u001b[0;34m(\u001b[0m\u001b[0;34m\"K\"\u001b[0m\u001b[0;34m)\u001b[0m\u001b[0;34m)\u001b[0m\u001b[0;34m\u001b[0m\u001b[0;34m\u001b[0m\u001b[0m\n\u001b[0m\u001b[1;32m   2188\u001b[0m             \u001b[0;31m# If tzaware, these values represent unix timestamps, so we\u001b[0m\u001b[0;34m\u001b[0m\u001b[0;34m\u001b[0m\u001b[0m\n",
      "\u001b[0;32m~/opt/anaconda3/lib/python3.9/site-packages/pandas/_libs/tslibs/conversion.pyx\u001b[0m in \u001b[0;36mpandas._libs.tslibs.conversion.datetime_to_datetime64\u001b[0;34m()\u001b[0m\n",
      "\u001b[0;31mValueError\u001b[0m: Array must be all same time zone",
      "\nDuring handling of the above exception, another exception occurred:\n",
      "\u001b[0;31mValueError\u001b[0m                                Traceback (most recent call last)",
      "\u001b[0;32m/var/folders/9p/xbvrxvc56yg7hxl3bd1rzrxh0000gn/T/ipykernel_10827/2937032898.py\u001b[0m in \u001b[0;36m<module>\u001b[0;34m\u001b[0m\n\u001b[0;32m----> 1\u001b[0;31m \u001b[0mdf\u001b[0m \u001b[0;34m=\u001b[0m \u001b[0mpd\u001b[0m\u001b[0;34m.\u001b[0m\u001b[0mDataFrame\u001b[0m\u001b[0;34m(\u001b[0m\u001b[0mdata\u001b[0m\u001b[0;34m)\u001b[0m\u001b[0;34m.\u001b[0m\u001b[0mastype\u001b[0m\u001b[0;34m(\u001b[0m\u001b[0;34m{\u001b[0m\u001b[0;34m'Date'\u001b[0m\u001b[0;34m:\u001b[0m\u001b[0;34m'datetime64'\u001b[0m\u001b[0;34m}\u001b[0m\u001b[0;34m)\u001b[0m\u001b[0;34m\u001b[0m\u001b[0;34m\u001b[0m\u001b[0m\n\u001b[0m\u001b[1;32m      2\u001b[0m \u001b[0;31m# sort on date\u001b[0m\u001b[0;34m\u001b[0m\u001b[0;34m\u001b[0m\u001b[0m\n\u001b[1;32m      3\u001b[0m \u001b[0;31m#df = df.sort_values('Date')\u001b[0m\u001b[0;34m\u001b[0m\u001b[0;34m\u001b[0m\u001b[0m\n\u001b[1;32m      4\u001b[0m \u001b[0;31m# make Date the index of the dataframe\u001b[0m\u001b[0;34m\u001b[0m\u001b[0;34m\u001b[0m\u001b[0m\n\u001b[1;32m      5\u001b[0m \u001b[0;31m#df.index = df['Date']\u001b[0m\u001b[0;34m\u001b[0m\u001b[0;34m\u001b[0m\u001b[0m\n",
      "\u001b[0;32m~/opt/anaconda3/lib/python3.9/site-packages/pandas/core/generic.py\u001b[0m in \u001b[0;36mastype\u001b[0;34m(self, dtype, copy, errors)\u001b[0m\n\u001b[1;32m   5797\u001b[0m                 \u001b[0;32mif\u001b[0m \u001b[0mcol_name\u001b[0m \u001b[0;32min\u001b[0m \u001b[0mdtype\u001b[0m\u001b[0;34m:\u001b[0m\u001b[0;34m\u001b[0m\u001b[0;34m\u001b[0m\u001b[0m\n\u001b[1;32m   5798\u001b[0m                     results.append(\n\u001b[0;32m-> 5799\u001b[0;31m                         \u001b[0mcol\u001b[0m\u001b[0;34m.\u001b[0m\u001b[0mastype\u001b[0m\u001b[0;34m(\u001b[0m\u001b[0mdtype\u001b[0m\u001b[0;34m=\u001b[0m\u001b[0mdtype\u001b[0m\u001b[0;34m[\u001b[0m\u001b[0mcol_name\u001b[0m\u001b[0;34m]\u001b[0m\u001b[0;34m,\u001b[0m \u001b[0mcopy\u001b[0m\u001b[0;34m=\u001b[0m\u001b[0mcopy\u001b[0m\u001b[0;34m,\u001b[0m \u001b[0merrors\u001b[0m\u001b[0;34m=\u001b[0m\u001b[0merrors\u001b[0m\u001b[0;34m)\u001b[0m\u001b[0;34m\u001b[0m\u001b[0;34m\u001b[0m\u001b[0m\n\u001b[0m\u001b[1;32m   5800\u001b[0m                     )\n\u001b[1;32m   5801\u001b[0m                 \u001b[0;32melse\u001b[0m\u001b[0;34m:\u001b[0m\u001b[0;34m\u001b[0m\u001b[0;34m\u001b[0m\u001b[0m\n",
      "\u001b[0;32m~/opt/anaconda3/lib/python3.9/site-packages/pandas/core/generic.py\u001b[0m in \u001b[0;36mastype\u001b[0;34m(self, dtype, copy, errors)\u001b[0m\n\u001b[1;32m   5813\u001b[0m         \u001b[0;32melse\u001b[0m\u001b[0;34m:\u001b[0m\u001b[0;34m\u001b[0m\u001b[0;34m\u001b[0m\u001b[0m\n\u001b[1;32m   5814\u001b[0m             \u001b[0;31m# else, only a single dtype is given\u001b[0m\u001b[0;34m\u001b[0m\u001b[0;34m\u001b[0m\u001b[0m\n\u001b[0;32m-> 5815\u001b[0;31m             \u001b[0mnew_data\u001b[0m \u001b[0;34m=\u001b[0m \u001b[0mself\u001b[0m\u001b[0;34m.\u001b[0m\u001b[0m_mgr\u001b[0m\u001b[0;34m.\u001b[0m\u001b[0mastype\u001b[0m\u001b[0;34m(\u001b[0m\u001b[0mdtype\u001b[0m\u001b[0;34m=\u001b[0m\u001b[0mdtype\u001b[0m\u001b[0;34m,\u001b[0m \u001b[0mcopy\u001b[0m\u001b[0;34m=\u001b[0m\u001b[0mcopy\u001b[0m\u001b[0;34m,\u001b[0m \u001b[0merrors\u001b[0m\u001b[0;34m=\u001b[0m\u001b[0merrors\u001b[0m\u001b[0;34m)\u001b[0m\u001b[0;34m\u001b[0m\u001b[0;34m\u001b[0m\u001b[0m\n\u001b[0m\u001b[1;32m   5816\u001b[0m             \u001b[0;32mreturn\u001b[0m \u001b[0mself\u001b[0m\u001b[0;34m.\u001b[0m\u001b[0m_constructor\u001b[0m\u001b[0;34m(\u001b[0m\u001b[0mnew_data\u001b[0m\u001b[0;34m)\u001b[0m\u001b[0;34m.\u001b[0m\u001b[0m__finalize__\u001b[0m\u001b[0;34m(\u001b[0m\u001b[0mself\u001b[0m\u001b[0;34m,\u001b[0m \u001b[0mmethod\u001b[0m\u001b[0;34m=\u001b[0m\u001b[0;34m\"astype\"\u001b[0m\u001b[0;34m)\u001b[0m\u001b[0;34m\u001b[0m\u001b[0;34m\u001b[0m\u001b[0m\n\u001b[1;32m   5817\u001b[0m \u001b[0;34m\u001b[0m\u001b[0m\n",
      "\u001b[0;32m~/opt/anaconda3/lib/python3.9/site-packages/pandas/core/internals/managers.py\u001b[0m in \u001b[0;36mastype\u001b[0;34m(self, dtype, copy, errors)\u001b[0m\n\u001b[1;32m    416\u001b[0m \u001b[0;34m\u001b[0m\u001b[0m\n\u001b[1;32m    417\u001b[0m     \u001b[0;32mdef\u001b[0m \u001b[0mastype\u001b[0m\u001b[0;34m(\u001b[0m\u001b[0mself\u001b[0m\u001b[0;34m:\u001b[0m \u001b[0mT\u001b[0m\u001b[0;34m,\u001b[0m \u001b[0mdtype\u001b[0m\u001b[0;34m,\u001b[0m \u001b[0mcopy\u001b[0m\u001b[0;34m:\u001b[0m \u001b[0mbool\u001b[0m \u001b[0;34m=\u001b[0m \u001b[0;32mFalse\u001b[0m\u001b[0;34m,\u001b[0m \u001b[0merrors\u001b[0m\u001b[0;34m:\u001b[0m \u001b[0mstr\u001b[0m \u001b[0;34m=\u001b[0m \u001b[0;34m\"raise\"\u001b[0m\u001b[0;34m)\u001b[0m \u001b[0;34m->\u001b[0m \u001b[0mT\u001b[0m\u001b[0;34m:\u001b[0m\u001b[0;34m\u001b[0m\u001b[0;34m\u001b[0m\u001b[0m\n\u001b[0;32m--> 418\u001b[0;31m         \u001b[0;32mreturn\u001b[0m \u001b[0mself\u001b[0m\u001b[0;34m.\u001b[0m\u001b[0mapply\u001b[0m\u001b[0;34m(\u001b[0m\u001b[0;34m\"astype\"\u001b[0m\u001b[0;34m,\u001b[0m \u001b[0mdtype\u001b[0m\u001b[0;34m=\u001b[0m\u001b[0mdtype\u001b[0m\u001b[0;34m,\u001b[0m \u001b[0mcopy\u001b[0m\u001b[0;34m=\u001b[0m\u001b[0mcopy\u001b[0m\u001b[0;34m,\u001b[0m \u001b[0merrors\u001b[0m\u001b[0;34m=\u001b[0m\u001b[0merrors\u001b[0m\u001b[0;34m)\u001b[0m\u001b[0;34m\u001b[0m\u001b[0;34m\u001b[0m\u001b[0m\n\u001b[0m\u001b[1;32m    419\u001b[0m \u001b[0;34m\u001b[0m\u001b[0m\n\u001b[1;32m    420\u001b[0m     def convert(\n",
      "\u001b[0;32m~/opt/anaconda3/lib/python3.9/site-packages/pandas/core/internals/managers.py\u001b[0m in \u001b[0;36mapply\u001b[0;34m(self, f, align_keys, ignore_failures, **kwargs)\u001b[0m\n\u001b[1;32m    325\u001b[0m                     \u001b[0mapplied\u001b[0m \u001b[0;34m=\u001b[0m \u001b[0mb\u001b[0m\u001b[0;34m.\u001b[0m\u001b[0mapply\u001b[0m\u001b[0;34m(\u001b[0m\u001b[0mf\u001b[0m\u001b[0;34m,\u001b[0m \u001b[0;34m**\u001b[0m\u001b[0mkwargs\u001b[0m\u001b[0;34m)\u001b[0m\u001b[0;34m\u001b[0m\u001b[0;34m\u001b[0m\u001b[0m\n\u001b[1;32m    326\u001b[0m                 \u001b[0;32melse\u001b[0m\u001b[0;34m:\u001b[0m\u001b[0;34m\u001b[0m\u001b[0;34m\u001b[0m\u001b[0m\n\u001b[0;32m--> 327\u001b[0;31m                     \u001b[0mapplied\u001b[0m \u001b[0;34m=\u001b[0m \u001b[0mgetattr\u001b[0m\u001b[0;34m(\u001b[0m\u001b[0mb\u001b[0m\u001b[0;34m,\u001b[0m \u001b[0mf\u001b[0m\u001b[0;34m)\u001b[0m\u001b[0;34m(\u001b[0m\u001b[0;34m**\u001b[0m\u001b[0mkwargs\u001b[0m\u001b[0;34m)\u001b[0m\u001b[0;34m\u001b[0m\u001b[0;34m\u001b[0m\u001b[0m\n\u001b[0m\u001b[1;32m    328\u001b[0m             \u001b[0;32mexcept\u001b[0m \u001b[0;34m(\u001b[0m\u001b[0mTypeError\u001b[0m\u001b[0;34m,\u001b[0m \u001b[0mNotImplementedError\u001b[0m\u001b[0;34m)\u001b[0m\u001b[0;34m:\u001b[0m\u001b[0;34m\u001b[0m\u001b[0;34m\u001b[0m\u001b[0m\n\u001b[1;32m    329\u001b[0m                 \u001b[0;32mif\u001b[0m \u001b[0;32mnot\u001b[0m \u001b[0mignore_failures\u001b[0m\u001b[0;34m:\u001b[0m\u001b[0;34m\u001b[0m\u001b[0;34m\u001b[0m\u001b[0m\n",
      "\u001b[0;32m~/opt/anaconda3/lib/python3.9/site-packages/pandas/core/internals/blocks.py\u001b[0m in \u001b[0;36mastype\u001b[0;34m(self, dtype, copy, errors)\u001b[0m\n\u001b[1;32m    589\u001b[0m         \u001b[0mvalues\u001b[0m \u001b[0;34m=\u001b[0m \u001b[0mself\u001b[0m\u001b[0;34m.\u001b[0m\u001b[0mvalues\u001b[0m\u001b[0;34m\u001b[0m\u001b[0;34m\u001b[0m\u001b[0m\n\u001b[1;32m    590\u001b[0m \u001b[0;34m\u001b[0m\u001b[0m\n\u001b[0;32m--> 591\u001b[0;31m         \u001b[0mnew_values\u001b[0m \u001b[0;34m=\u001b[0m \u001b[0mastype_array_safe\u001b[0m\u001b[0;34m(\u001b[0m\u001b[0mvalues\u001b[0m\u001b[0;34m,\u001b[0m \u001b[0mdtype\u001b[0m\u001b[0;34m,\u001b[0m \u001b[0mcopy\u001b[0m\u001b[0;34m=\u001b[0m\u001b[0mcopy\u001b[0m\u001b[0;34m,\u001b[0m \u001b[0merrors\u001b[0m\u001b[0;34m=\u001b[0m\u001b[0merrors\u001b[0m\u001b[0;34m)\u001b[0m\u001b[0;34m\u001b[0m\u001b[0;34m\u001b[0m\u001b[0m\n\u001b[0m\u001b[1;32m    592\u001b[0m \u001b[0;34m\u001b[0m\u001b[0m\n\u001b[1;32m    593\u001b[0m         \u001b[0mnew_values\u001b[0m \u001b[0;34m=\u001b[0m \u001b[0mmaybe_coerce_values\u001b[0m\u001b[0;34m(\u001b[0m\u001b[0mnew_values\u001b[0m\u001b[0;34m)\u001b[0m\u001b[0;34m\u001b[0m\u001b[0;34m\u001b[0m\u001b[0m\n",
      "\u001b[0;32m~/opt/anaconda3/lib/python3.9/site-packages/pandas/core/dtypes/cast.py\u001b[0m in \u001b[0;36mastype_array_safe\u001b[0;34m(values, dtype, copy, errors)\u001b[0m\n\u001b[1;32m   1307\u001b[0m \u001b[0;34m\u001b[0m\u001b[0m\n\u001b[1;32m   1308\u001b[0m     \u001b[0;32mtry\u001b[0m\u001b[0;34m:\u001b[0m\u001b[0;34m\u001b[0m\u001b[0;34m\u001b[0m\u001b[0m\n\u001b[0;32m-> 1309\u001b[0;31m         \u001b[0mnew_values\u001b[0m \u001b[0;34m=\u001b[0m \u001b[0mastype_array\u001b[0m\u001b[0;34m(\u001b[0m\u001b[0mvalues\u001b[0m\u001b[0;34m,\u001b[0m \u001b[0mdtype\u001b[0m\u001b[0;34m,\u001b[0m \u001b[0mcopy\u001b[0m\u001b[0;34m=\u001b[0m\u001b[0mcopy\u001b[0m\u001b[0;34m)\u001b[0m\u001b[0;34m\u001b[0m\u001b[0;34m\u001b[0m\u001b[0m\n\u001b[0m\u001b[1;32m   1310\u001b[0m     \u001b[0;32mexcept\u001b[0m \u001b[0;34m(\u001b[0m\u001b[0mValueError\u001b[0m\u001b[0;34m,\u001b[0m \u001b[0mTypeError\u001b[0m\u001b[0;34m)\u001b[0m\u001b[0;34m:\u001b[0m\u001b[0;34m\u001b[0m\u001b[0;34m\u001b[0m\u001b[0m\n\u001b[1;32m   1311\u001b[0m         \u001b[0;31m# e.g. astype_nansafe can fail on object-dtype of strings\u001b[0m\u001b[0;34m\u001b[0m\u001b[0;34m\u001b[0m\u001b[0m\n",
      "\u001b[0;32m~/opt/anaconda3/lib/python3.9/site-packages/pandas/core/dtypes/cast.py\u001b[0m in \u001b[0;36mastype_array\u001b[0;34m(values, dtype, copy)\u001b[0m\n\u001b[1;32m   1255\u001b[0m \u001b[0;34m\u001b[0m\u001b[0m\n\u001b[1;32m   1256\u001b[0m     \u001b[0;32melse\u001b[0m\u001b[0;34m:\u001b[0m\u001b[0;34m\u001b[0m\u001b[0;34m\u001b[0m\u001b[0m\n\u001b[0;32m-> 1257\u001b[0;31m         \u001b[0mvalues\u001b[0m \u001b[0;34m=\u001b[0m \u001b[0mastype_nansafe\u001b[0m\u001b[0;34m(\u001b[0m\u001b[0mvalues\u001b[0m\u001b[0;34m,\u001b[0m \u001b[0mdtype\u001b[0m\u001b[0;34m,\u001b[0m \u001b[0mcopy\u001b[0m\u001b[0;34m=\u001b[0m\u001b[0mcopy\u001b[0m\u001b[0;34m)\u001b[0m\u001b[0;34m\u001b[0m\u001b[0;34m\u001b[0m\u001b[0m\n\u001b[0m\u001b[1;32m   1258\u001b[0m \u001b[0;34m\u001b[0m\u001b[0m\n\u001b[1;32m   1259\u001b[0m     \u001b[0;31m# in pandas we don't store numpy str dtypes, so convert to object\u001b[0m\u001b[0;34m\u001b[0m\u001b[0;34m\u001b[0m\u001b[0m\n",
      "\u001b[0;32m~/opt/anaconda3/lib/python3.9/site-packages/pandas/core/dtypes/cast.py\u001b[0m in \u001b[0;36mastype_nansafe\u001b[0;34m(arr, dtype, copy, skipna)\u001b[0m\n\u001b[1;32m   1180\u001b[0m             \u001b[0;32mfrom\u001b[0m \u001b[0mpandas\u001b[0m \u001b[0;32mimport\u001b[0m \u001b[0mto_datetime\u001b[0m\u001b[0;34m\u001b[0m\u001b[0;34m\u001b[0m\u001b[0m\n\u001b[1;32m   1181\u001b[0m \u001b[0;34m\u001b[0m\u001b[0m\n\u001b[0;32m-> 1182\u001b[0;31m             return astype_nansafe(\n\u001b[0m\u001b[1;32m   1183\u001b[0m                 \u001b[0mto_datetime\u001b[0m\u001b[0;34m(\u001b[0m\u001b[0marr\u001b[0m\u001b[0;34m)\u001b[0m\u001b[0;34m.\u001b[0m\u001b[0mvalues\u001b[0m\u001b[0;34m,\u001b[0m\u001b[0;34m\u001b[0m\u001b[0;34m\u001b[0m\u001b[0m\n\u001b[1;32m   1184\u001b[0m                 \u001b[0mdtype\u001b[0m\u001b[0;34m,\u001b[0m\u001b[0;34m\u001b[0m\u001b[0;34m\u001b[0m\u001b[0m\n",
      "\u001b[0;32m~/opt/anaconda3/lib/python3.9/site-packages/pandas/core/dtypes/cast.py\u001b[0m in \u001b[0;36mastype_nansafe\u001b[0;34m(arr, dtype, copy, skipna)\u001b[0m\n\u001b[1;32m   1181\u001b[0m \u001b[0;34m\u001b[0m\u001b[0m\n\u001b[1;32m   1182\u001b[0m             return astype_nansafe(\n\u001b[0;32m-> 1183\u001b[0;31m                 \u001b[0mto_datetime\u001b[0m\u001b[0;34m(\u001b[0m\u001b[0marr\u001b[0m\u001b[0;34m)\u001b[0m\u001b[0;34m.\u001b[0m\u001b[0mvalues\u001b[0m\u001b[0;34m,\u001b[0m\u001b[0;34m\u001b[0m\u001b[0;34m\u001b[0m\u001b[0m\n\u001b[0m\u001b[1;32m   1184\u001b[0m                 \u001b[0mdtype\u001b[0m\u001b[0;34m,\u001b[0m\u001b[0;34m\u001b[0m\u001b[0;34m\u001b[0m\u001b[0m\n\u001b[1;32m   1185\u001b[0m                 \u001b[0mcopy\u001b[0m\u001b[0;34m=\u001b[0m\u001b[0mcopy\u001b[0m\u001b[0;34m,\u001b[0m\u001b[0;34m\u001b[0m\u001b[0;34m\u001b[0m\u001b[0m\n",
      "\u001b[0;32m~/opt/anaconda3/lib/python3.9/site-packages/pandas/core/tools/datetimes.py\u001b[0m in \u001b[0;36mto_datetime\u001b[0;34m(arg, errors, dayfirst, yearfirst, utc, format, exact, unit, infer_datetime_format, origin, cache)\u001b[0m\n\u001b[1;32m    910\u001b[0m             \u001b[0mresult\u001b[0m \u001b[0;34m=\u001b[0m \u001b[0m_convert_and_box_cache\u001b[0m\u001b[0;34m(\u001b[0m\u001b[0marg\u001b[0m\u001b[0;34m,\u001b[0m \u001b[0mcache_array\u001b[0m\u001b[0;34m)\u001b[0m\u001b[0;34m\u001b[0m\u001b[0;34m\u001b[0m\u001b[0m\n\u001b[1;32m    911\u001b[0m         \u001b[0;32melse\u001b[0m\u001b[0;34m:\u001b[0m\u001b[0;34m\u001b[0m\u001b[0;34m\u001b[0m\u001b[0m\n\u001b[0;32m--> 912\u001b[0;31m             \u001b[0mresult\u001b[0m \u001b[0;34m=\u001b[0m \u001b[0mconvert_listlike\u001b[0m\u001b[0;34m(\u001b[0m\u001b[0marg\u001b[0m\u001b[0;34m,\u001b[0m \u001b[0mformat\u001b[0m\u001b[0;34m)\u001b[0m\u001b[0;34m\u001b[0m\u001b[0;34m\u001b[0m\u001b[0m\n\u001b[0m\u001b[1;32m    913\u001b[0m     \u001b[0;32melse\u001b[0m\u001b[0;34m:\u001b[0m\u001b[0;34m\u001b[0m\u001b[0;34m\u001b[0m\u001b[0m\n\u001b[1;32m    914\u001b[0m         \u001b[0mresult\u001b[0m \u001b[0;34m=\u001b[0m \u001b[0mconvert_listlike\u001b[0m\u001b[0;34m(\u001b[0m\u001b[0mnp\u001b[0m\u001b[0;34m.\u001b[0m\u001b[0marray\u001b[0m\u001b[0;34m(\u001b[0m\u001b[0;34m[\u001b[0m\u001b[0marg\u001b[0m\u001b[0;34m]\u001b[0m\u001b[0;34m)\u001b[0m\u001b[0;34m,\u001b[0m \u001b[0mformat\u001b[0m\u001b[0;34m)\u001b[0m\u001b[0;34m[\u001b[0m\u001b[0;36m0\u001b[0m\u001b[0;34m]\u001b[0m\u001b[0;34m\u001b[0m\u001b[0;34m\u001b[0m\u001b[0m\n",
      "\u001b[0;32m~/opt/anaconda3/lib/python3.9/site-packages/pandas/core/tools/datetimes.py\u001b[0m in \u001b[0;36m_convert_listlike_datetimes\u001b[0;34m(arg, format, name, tz, unit, errors, infer_datetime_format, dayfirst, yearfirst, exact)\u001b[0m\n\u001b[1;32m    399\u001b[0m     \u001b[0;32massert\u001b[0m \u001b[0mformat\u001b[0m \u001b[0;32mis\u001b[0m \u001b[0;32mNone\u001b[0m \u001b[0;32mor\u001b[0m \u001b[0minfer_datetime_format\u001b[0m\u001b[0;34m\u001b[0m\u001b[0;34m\u001b[0m\u001b[0m\n\u001b[1;32m    400\u001b[0m     \u001b[0mutc\u001b[0m \u001b[0;34m=\u001b[0m \u001b[0mtz\u001b[0m \u001b[0;34m==\u001b[0m \u001b[0;34m\"utc\"\u001b[0m\u001b[0;34m\u001b[0m\u001b[0;34m\u001b[0m\u001b[0m\n\u001b[0;32m--> 401\u001b[0;31m     result, tz_parsed = objects_to_datetime64ns(\n\u001b[0m\u001b[1;32m    402\u001b[0m         \u001b[0marg\u001b[0m\u001b[0;34m,\u001b[0m\u001b[0;34m\u001b[0m\u001b[0;34m\u001b[0m\u001b[0m\n\u001b[1;32m    403\u001b[0m         \u001b[0mdayfirst\u001b[0m\u001b[0;34m=\u001b[0m\u001b[0mdayfirst\u001b[0m\u001b[0;34m,\u001b[0m\u001b[0;34m\u001b[0m\u001b[0;34m\u001b[0m\u001b[0m\n",
      "\u001b[0;32m~/opt/anaconda3/lib/python3.9/site-packages/pandas/core/arrays/datetimes.py\u001b[0m in \u001b[0;36mobjects_to_datetime64ns\u001b[0;34m(data, dayfirst, yearfirst, utc, errors, require_iso8601, allow_object, allow_mixed)\u001b[0m\n\u001b[1;32m   2191\u001b[0m             \u001b[0;32mreturn\u001b[0m \u001b[0mvalues\u001b[0m\u001b[0;34m.\u001b[0m\u001b[0mview\u001b[0m\u001b[0;34m(\u001b[0m\u001b[0;34m\"i8\"\u001b[0m\u001b[0;34m)\u001b[0m\u001b[0;34m,\u001b[0m \u001b[0mtz_parsed\u001b[0m\u001b[0;34m\u001b[0m\u001b[0;34m\u001b[0m\u001b[0m\n\u001b[1;32m   2192\u001b[0m         \u001b[0;32mexcept\u001b[0m \u001b[0;34m(\u001b[0m\u001b[0mValueError\u001b[0m\u001b[0;34m,\u001b[0m \u001b[0mTypeError\u001b[0m\u001b[0;34m)\u001b[0m\u001b[0;34m:\u001b[0m\u001b[0;34m\u001b[0m\u001b[0;34m\u001b[0m\u001b[0m\n\u001b[0;32m-> 2193\u001b[0;31m             \u001b[0;32mraise\u001b[0m \u001b[0merr\u001b[0m\u001b[0;34m\u001b[0m\u001b[0;34m\u001b[0m\u001b[0m\n\u001b[0m\u001b[1;32m   2194\u001b[0m \u001b[0;34m\u001b[0m\u001b[0m\n\u001b[1;32m   2195\u001b[0m     \u001b[0;32mif\u001b[0m \u001b[0mtz_parsed\u001b[0m \u001b[0;32mis\u001b[0m \u001b[0;32mnot\u001b[0m \u001b[0;32mNone\u001b[0m\u001b[0;34m:\u001b[0m\u001b[0;34m\u001b[0m\u001b[0;34m\u001b[0m\u001b[0m\n",
      "\u001b[0;32m~/opt/anaconda3/lib/python3.9/site-packages/pandas/core/arrays/datetimes.py\u001b[0m in \u001b[0;36mobjects_to_datetime64ns\u001b[0;34m(data, dayfirst, yearfirst, utc, errors, require_iso8601, allow_object, allow_mixed)\u001b[0m\n\u001b[1;32m   2173\u001b[0m     \u001b[0morder\u001b[0m\u001b[0;34m:\u001b[0m \u001b[0mLiteral\u001b[0m\u001b[0;34m[\u001b[0m\u001b[0;34m\"F\"\u001b[0m\u001b[0;34m,\u001b[0m \u001b[0;34m\"C\"\u001b[0m\u001b[0;34m]\u001b[0m \u001b[0;34m=\u001b[0m \u001b[0;34m\"F\"\u001b[0m \u001b[0;32mif\u001b[0m \u001b[0mflags\u001b[0m\u001b[0;34m.\u001b[0m\u001b[0mf_contiguous\u001b[0m \u001b[0;32melse\u001b[0m \u001b[0;34m\"C\"\u001b[0m\u001b[0;34m\u001b[0m\u001b[0;34m\u001b[0m\u001b[0m\n\u001b[1;32m   2174\u001b[0m     \u001b[0;32mtry\u001b[0m\u001b[0;34m:\u001b[0m\u001b[0;34m\u001b[0m\u001b[0;34m\u001b[0m\u001b[0m\n\u001b[0;32m-> 2175\u001b[0;31m         result, tz_parsed = tslib.array_to_datetime(\n\u001b[0m\u001b[1;32m   2176\u001b[0m             \u001b[0mdata\u001b[0m\u001b[0;34m.\u001b[0m\u001b[0mravel\u001b[0m\u001b[0;34m(\u001b[0m\u001b[0;34m\"K\"\u001b[0m\u001b[0;34m)\u001b[0m\u001b[0;34m,\u001b[0m\u001b[0;34m\u001b[0m\u001b[0;34m\u001b[0m\u001b[0m\n\u001b[1;32m   2177\u001b[0m             \u001b[0merrors\u001b[0m\u001b[0;34m=\u001b[0m\u001b[0merrors\u001b[0m\u001b[0;34m,\u001b[0m\u001b[0;34m\u001b[0m\u001b[0;34m\u001b[0m\u001b[0m\n",
      "\u001b[0;32m~/opt/anaconda3/lib/python3.9/site-packages/pandas/_libs/tslib.pyx\u001b[0m in \u001b[0;36mpandas._libs.tslib.array_to_datetime\u001b[0;34m()\u001b[0m\n",
      "\u001b[0;32m~/opt/anaconda3/lib/python3.9/site-packages/pandas/_libs/tslib.pyx\u001b[0m in \u001b[0;36mpandas._libs.tslib.array_to_datetime\u001b[0;34m()\u001b[0m\n",
      "\u001b[0;31mValueError\u001b[0m: Tz-aware datetime.datetime cannot be converted to datetime64 unless utc=True"
     ]
    }
   ],
   "source": [
    "df = pd.DataFrame(data).astype({'Date':'datetime64'}) # can't do this with different timezone\n",
    "# sort on date\n",
    "#df = df.sort_values('Date')\n",
    "# make Date the index of the dataframe\n",
    "#df.index = df['Date']\n",
    "# remove the Date column (axis=1 means we're dropping a column, not rows)\n",
    "#df.drop('Date', axis=1, inplace=True)\n",
    "df2.head()\n",
    "print(df2.info())"
   ]
  },
  {
   "cell_type": "code",
   "execution_count": null,
   "metadata": {
    "scrolled": true,
    "slideshow": {
     "slide_type": "slide"
    }
   },
   "outputs": [],
   "source": [
    "# having a datetime index means we can easily select rows for a given year etc\n",
    "df['2016-09']"
   ]
  },
  {
   "cell_type": "markdown",
   "metadata": {
    "slideshow": {
     "slide_type": "slide"
    }
   },
   "source": [
    "## Getting the index of a row\n",
    "\n",
    "- With the datetime as an index it is no longer a column in the data frame\n",
    "- Available as `df.index` rather than `df['Date']`"
   ]
  },
  {
   "cell_type": "code",
   "execution_count": null,
   "metadata": {
    "slideshow": {
     "slide_type": "fragment"
    }
   },
   "outputs": [],
   "source": [
    "df.index[0]"
   ]
  },
  {
   "cell_type": "markdown",
   "metadata": {
    "slideshow": {
     "slide_type": "slide"
    }
   },
   "source": [
    "## Working with rows\n",
    "\n",
    "- Many operations can be done on a `DataFrame` as a whole\n",
    "- More efficient to use these operations than iterating over rows\n",
    "- But sometimes that's what you need to do\n",
    "- Use the `df.iterrows()` method to iterate over rows\n",
    "- Each iteration yeilds the index and the row itself"
   ]
  },
  {
   "cell_type": "code",
   "execution_count": 17,
   "metadata": {
    "slideshow": {
     "slide_type": "slide"
    }
   },
   "outputs": [
    {
     "name": "stdout",
     "output_type": "stream",
     "text": [
      "43 97.98\n",
      "32 99.04\n",
      "13 99.27\n",
      "28 96.53\n",
      "86 107.23\n",
      "70 99.06\n",
      "57 100.44\n",
      "65 90.59\n",
      "81 103.11\n",
      "45 102.78\n"
     ]
    }
   ],
   "source": [
    "# make a smaller dataframe, just the first 10 rows\n",
    "small = df.iloc[:10]\n",
    "# this is useful if you want to print out a particular column only\n",
    "for index, row in small.iterrows():\n",
    "    print(index, row['Amount'])"
   ]
  },
  {
   "cell_type": "code",
   "execution_count": null,
   "metadata": {},
   "outputs": [],
   "source": []
  }
 ],
 "metadata": {
  "celltoolbar": "Slideshow",
  "kernelspec": {
   "display_name": "Python 3 (ipykernel)",
   "language": "python",
   "name": "python3"
  },
  "language_info": {
   "codemirror_mode": {
    "name": "ipython",
    "version": 3
   },
   "file_extension": ".py",
   "mimetype": "text/x-python",
   "name": "python",
   "nbconvert_exporter": "python",
   "pygments_lexer": "ipython3",
   "version": "3.9.7"
  }
 },
 "nbformat": 4,
 "nbformat_minor": 4
}
