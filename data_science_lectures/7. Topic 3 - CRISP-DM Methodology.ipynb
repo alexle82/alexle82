{
 "cells": [
  {
   "cell_type": "markdown",
   "metadata": {
    "slideshow": {
     "slide_type": "slide"
    }
   },
   "source": [
    "## Methodology\n",
    "\n",
    "<div style=\"float: left\">\n",
    "<a title=\"By Kenneth Jensen [CC BY-SA 3.0 (http://creativecommons.org/licenses/by-sa/3.0)], via Wikimedia Commons\" href=\"https://commons.wikimedia.org/wiki/File%3ACRISP-DM_Process_Diagram.png\"><img width=\"512\" alt=\"CRISP-DM Process Diagram\" src=\"https://upload.wikimedia.org/wikipedia/commons/thumb/b/b9/CRISP-DM_Process_Diagram.png/512px-CRISP-DM_Process_Diagram.png\"/></a>\n",
    "</div>\n",
    "\n",
    "This diagram illustrates the CRISP-DM process diagram.  CRISP-DM is a standardised workflow \n",
    "for Data Mining/Data Science that attempts to lay out a methodology to follow in a project.\n",
    "Compare with what you've seen about the software development lifecycle. "
   ]
  },
  {
   "cell_type": "markdown",
   "metadata": {
    "slideshow": {
     "slide_type": "notes"
    }
   },
   "source": [
    "[This post by Locke Data](https://itsalocke.com/crisp-dm/) gives a concise overview of the methodology. Note also the link included in that post to the Microsoft Team Data Science Process, that site provides quite a bit more detail. \n",
    "\n",
    "The methodology highlights the fact that there are many phases to a DS project apart from what we might understand as the 'real data science' part of data preparation and modelling.  Those core parts are the main skills we're learning about in this unit, but we need to see where they fit into the bigger picture.  In many ways they might not be the hardest part of a project. "
   ]
  },
  {
   "cell_type": "markdown",
   "metadata": {
    "slideshow": {
     "slide_type": "slide"
    }
   },
   "source": [
    "## Methodology\n",
    "\n",
    "- **Business Understanding** DS problems generally come out of some business need (or maybe from some scientific or humanities research goal).  So, understanding why the questions are being asked and how an answer might be used is important.\n",
    "- **Data Understanding** what data is available, what do the fields mean, what other data sources would we like to be able to access, assessing data quality"
   ]
  },
  {
   "cell_type": "markdown",
   "metadata": {
    "slideshow": {
     "slide_type": "slide"
    }
   },
   "source": [
    "## Methodology\n",
    "\n",
    "- **Data Preparation** and **Modelling** are the core processes we're learning how to do in Python\n",
    "- **Model Evaluation** how will you know if you've succeeded? Evaluation of the model with respect to business needs - are the predictions accurate enough to help the business?\n",
    "- **Deployment** is this a one off analysis that generates a report or a model that will be used repeatedly in some kind of production environment? Does it need to be updated as new data becomes available?"
   ]
  }
 ],
 "metadata": {
  "celltoolbar": "Slideshow",
  "kernelspec": {
   "display_name": "Python 3 (ipykernel)",
   "language": "python",
   "name": "python3"
  },
  "language_info": {
   "codemirror_mode": {
    "name": "ipython",
    "version": 3
   },
   "file_extension": ".py",
   "mimetype": "text/x-python",
   "name": "python",
   "nbconvert_exporter": "python",
   "pygments_lexer": "ipython3",
   "version": "3.9.7"
  }
 },
 "nbformat": 4,
 "nbformat_minor": 2
}
