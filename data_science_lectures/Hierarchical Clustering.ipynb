{
 "cells": [
  {
   "cell_type": "code",
   "execution_count": 2,
   "metadata": {
    "slideshow": {
     "slide_type": "skip"
    }
   },
   "outputs": [],
   "source": [
    "import pandas as pd\n",
    "import numpy as np\n",
    "import matplotlib.pylab as plt\n",
    "import seaborn as sns\n",
    "%matplotlib inline"
   ]
  },
  {
   "cell_type": "markdown",
   "metadata": {
    "slideshow": {
     "slide_type": "slide"
    }
   },
   "source": [
    "## Clustering\n",
    "\n",
    "Now that we can measure whether two samples are similar or different, we can begin to look at clustering.  There are two main families of clustering method:\n",
    "  \n",
    "- Partitional Algorithms\n",
    "- Hierarchical Algorithms\n",
    "\n"
   ]
  },
  {
   "cell_type": "markdown",
   "metadata": {
    "slideshow": {
     "slide_type": "slide"
    }
   },
   "source": [
    "## Hierarchical algorithms\n",
    "\n",
    "Organise the data into hierarchical (tree-like) structures where the most similar samples are grouped together, then similar groups are joined etc.   This might be done **bottom-up** or **top-down**.  The end result is a tree-like structure and these methods can be used when you don't know how many clusters there should be in the data.\n"
   ]
  },
  {
   "cell_type": "code",
   "execution_count": 3,
   "metadata": {
    "slideshow": {
     "slide_type": "fragment"
    }
   },
   "outputs": [
    {
     "data": {
      "text/html": [
       "<div>\n",
       "<style scoped>\n",
       "    .dataframe tbody tr th:only-of-type {\n",
       "        vertical-align: middle;\n",
       "    }\n",
       "\n",
       "    .dataframe tbody tr th {\n",
       "        vertical-align: top;\n",
       "    }\n",
       "\n",
       "    .dataframe thead th {\n",
       "        text-align: right;\n",
       "    }\n",
       "</style>\n",
       "<table border=\"1\" class=\"dataframe\">\n",
       "  <thead>\n",
       "    <tr style=\"text-align: right;\">\n",
       "      <th></th>\n",
       "      <th>mpg</th>\n",
       "      <th>cylinders</th>\n",
       "      <th>displacement</th>\n",
       "      <th>horsepower</th>\n",
       "      <th>weight</th>\n",
       "      <th>acceleration</th>\n",
       "      <th>year</th>\n",
       "      <th>origin</th>\n",
       "    </tr>\n",
       "  </thead>\n",
       "  <tbody>\n",
       "    <tr>\n",
       "      <th>0</th>\n",
       "      <td>-0.697747</td>\n",
       "      <td>1.482053</td>\n",
       "      <td>1.075915</td>\n",
       "      <td>0.663285</td>\n",
       "      <td>0.619748</td>\n",
       "      <td>-1.283618</td>\n",
       "      <td>-1.623241</td>\n",
       "      <td>-0.715726</td>\n",
       "    </tr>\n",
       "    <tr>\n",
       "      <th>1</th>\n",
       "      <td>-1.082115</td>\n",
       "      <td>1.482053</td>\n",
       "      <td>1.486832</td>\n",
       "      <td>1.572585</td>\n",
       "      <td>0.842258</td>\n",
       "      <td>-1.464852</td>\n",
       "      <td>-1.623241</td>\n",
       "      <td>-0.715726</td>\n",
       "    </tr>\n",
       "    <tr>\n",
       "      <th>2</th>\n",
       "      <td>-0.697747</td>\n",
       "      <td>1.482053</td>\n",
       "      <td>1.181033</td>\n",
       "      <td>1.182885</td>\n",
       "      <td>0.539692</td>\n",
       "      <td>-1.646086</td>\n",
       "      <td>-1.623241</td>\n",
       "      <td>-0.715726</td>\n",
       "    </tr>\n",
       "    <tr>\n",
       "      <th>3</th>\n",
       "      <td>-0.953992</td>\n",
       "      <td>1.482053</td>\n",
       "      <td>1.047246</td>\n",
       "      <td>1.182885</td>\n",
       "      <td>0.536160</td>\n",
       "      <td>-1.283618</td>\n",
       "      <td>-1.623241</td>\n",
       "      <td>-0.715726</td>\n",
       "    </tr>\n",
       "    <tr>\n",
       "      <th>4</th>\n",
       "      <td>-0.825870</td>\n",
       "      <td>1.482053</td>\n",
       "      <td>1.028134</td>\n",
       "      <td>0.923085</td>\n",
       "      <td>0.554997</td>\n",
       "      <td>-1.827320</td>\n",
       "      <td>-1.623241</td>\n",
       "      <td>-0.715726</td>\n",
       "    </tr>\n",
       "  </tbody>\n",
       "</table>\n",
       "</div>"
      ],
      "text/plain": [
       "        mpg  cylinders  displacement  horsepower    weight  acceleration  \\\n",
       "0 -0.697747   1.482053      1.075915    0.663285  0.619748     -1.283618   \n",
       "1 -1.082115   1.482053      1.486832    1.572585  0.842258     -1.464852   \n",
       "2 -0.697747   1.482053      1.181033    1.182885  0.539692     -1.646086   \n",
       "3 -0.953992   1.482053      1.047246    1.182885  0.536160     -1.283618   \n",
       "4 -0.825870   1.482053      1.028134    0.923085  0.554997     -1.827320   \n",
       "\n",
       "       year    origin  \n",
       "0 -1.623241 -0.715726  \n",
       "1 -1.623241 -0.715726  \n",
       "2 -1.623241 -0.715726  \n",
       "3 -1.623241 -0.715726  \n",
       "4 -1.623241 -0.715726  "
      ]
     },
     "execution_count": 3,
     "metadata": {},
     "output_type": "execute_result"
    }
   ],
   "source": [
    "names = ['mpg', 'cylinders', 'displacement', 'horsepower', 'weight', 'acceleration', 'year', 'origin', 'name']\n",
    "autompg = pd.read_csv('files/auto-mpg.data', delim_whitespace=True, names=names)\n",
    "# drop the name so that we just have the numerical columns\n",
    "autompgN = autompg.drop('name', axis=1)\n",
    "# subtract the mean, divide by the standard deviation\n",
    "autompg_norm = (autompgN-autompgN.mean())/autompgN.std()\n",
    "autompg_norm.head()"
   ]
  },
  {
   "cell_type": "markdown",
   "metadata": {
    "slideshow": {
     "slide_type": "slide"
    }
   },
   "source": [
    "## Hierarchical Clustering\n",
    "\n",
    "KMeans is good if you know how many clusters to expect.\n",
    "\n",
    "If you don't know how many clusters there might be, **Hierarchical Clustering** may be more useful.\n",
    "\n",
    "- Bottom up clustering starts with individuals and groups the most similar together\n",
    "- Top down clustering splits the data into two groups, then four etc"
   ]
  },
  {
   "cell_type": "markdown",
   "metadata": {
    "slideshow": {
     "slide_type": "slide"
    }
   },
   "source": [
    "###  Agglomorative Clustering\n",
    "\n",
    "- Bottom up (*agglomorative*) clustering is easiest to understand.  \n",
    "- Use the distance metric to compute an $N x N$ *similarity matrix* containing the similarity between all pairs of items.\n",
    "- Select the closest pair of items and merge them into our first cluster of two\n",
    "- ...\n"
   ]
  },
  {
   "cell_type": "markdown",
   "metadata": {
    "slideshow": {
     "slide_type": "slide"
    }
   },
   "source": [
    "- Next we merge the next closest.  \n",
    " - This could be another two single items or \n",
    " - it could be one item and the just created cluster of two\n",
    "- To measure the distance from the cluster we need a function that  can compare clusters \n",
    "- This continues until there is just one cluster. \n",
    "\n",
    "We can visualise the clustering with a **dendrogram** -- a tree-like display of the clusters as they grow."
   ]
  },
  {
   "cell_type": "markdown",
   "metadata": {
    "slideshow": {
     "slide_type": "slide"
    }
   },
   "source": [
    "## Distance between clusters\n",
    "\n",
    "- How do we compare cluster similarity?\n",
    "- Distance between cluster centroids\n",
    "- Distance between closest/furthest members\n",
    "- Average distance between pairs of cluster members\n",
    "- Ward's method:\n",
    " - relative size of the summed square distances within the combined cluster\n",
    " - merge two clusters if doing so results in the smaller summed square distances"
   ]
  },
  {
   "cell_type": "code",
   "execution_count": 47,
   "metadata": {
    "slideshow": {
     "slide_type": "slide"
    }
   },
   "outputs": [],
   "source": [
    "from scipy.cluster.hierarchy import linkage, dendrogram, cut_tree\n",
    "from scipy.spatial.distance import pdist\n",
    "\n",
    "# work on a copy of just a couple of variables\n",
    "df = autompg_norm[['weight', 'cylinders']].copy()\n",
    "\n",
    "# compute the distance matrix\n",
    "dist = pdist(df, 'euclidean')\n",
    "linkage_matrix = linkage(dist,method = 'ward')  # or 'ward'"
   ]
  },
  {
   "cell_type": "code",
   "execution_count": 48,
   "metadata": {
    "slideshow": {
     "slide_type": "slide"
    }
   },
   "outputs": [
    {
     "data": {
      "image/png": "[encoded data removed]",
      "text/plain": [
       "<Figure size 1080x504 with 1 Axes>"
      ]
     },
     "metadata": {},
     "output_type": "display_data"
    }
   ],
   "source": [
    "plt.figure(figsize=(15,7))\n",
    "dendrogram(linkage_matrix)\n",
    "plt.show()"
   ]
  },
  {
   "cell_type": "markdown",
   "metadata": {
    "slideshow": {
     "slide_type": "slide"
    }
   },
   "source": [
    "## Dendograms\n",
    "\n",
    "- Tree display of clusters\n",
    "- Hieght of lines proportional to the distance between sub-clusters\n",
    "- So, shorter lines means more similar within-clusters\n",
    "- To choose how many 'natural' clusters, look for change from short to long lines\n",
    "- Cut the tree at a specific number of clusters or tree height"
   ]
  },
  {
   "cell_type": "code",
   "execution_count": 50,
   "metadata": {
    "slideshow": {
     "slide_type": "slide"
    }
   },
   "outputs": [
    {
     "data": {
      "image/png": "[encoded data removed]",
      "text/plain": [
       "<Figure size 402.375x360 with 1 Axes>"
      ]
     },
     "metadata": {},
     "output_type": "display_data"
    }
   ],
   "source": [
    "# get a fixed number of clusters using the cut_tree function\n",
    "labels = cut_tree(linkage_matrix, n_clusters=5)\n",
    "df['label'] = labels\n",
    "_p = sns.lmplot(\"weight\", \"cylinders\", data=df, fit_reg=False, hue='label')"
   ]
  }
 ],
 "metadata": {
  "celltoolbar": "Slideshow",
  "kernelspec": {
   "display_name": "Python 3",
   "language": "python",
   "name": "python3"
  },
  "language_info": {
   "codemirror_mode": {
    "name": "ipython",
    "version": 3
   },
   "file_extension": ".py",
   "mimetype": "text/x-python",
   "name": "python",
   "nbconvert_exporter": "python",
   "pygments_lexer": "ipython3",
   "version": "3.8.3"
  }
 },
 "nbformat": 4,
 "nbformat_minor": 2
}
